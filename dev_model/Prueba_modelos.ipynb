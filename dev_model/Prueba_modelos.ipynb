{
 "cells": [
  {
   "cell_type": "code",
   "execution_count": 1,
   "metadata": {
    "executionInfo": {
     "elapsed": 8443,
     "status": "ok",
     "timestamp": 1733296225085,
     "user": {
      "displayName": "Clasificador CAMA",
      "userId": "04180014494601000487"
     },
     "user_tz": 360
    },
    "id": "x2u2oXH0IBSN"
   },
   "outputs": [],
   "source": [
    "import tensorflow as tf\n",
    "import numpy as np\n",
    "from tensorflow.keras import datasets, layers, models, Sequential\n",
    "import matplotlib.pyplot as plt\n",
    "\n",
    "from tensorflow import keras\n",
    "from tensorflow.keras import layers\n",
    "from tensorflow.keras.models import Sequential"
   ]
  },
  {
   "cell_type": "code",
   "execution_count": 2,
   "metadata": {
    "colab": {
     "base_uri": "https://localhost:8080/"
    },
    "executionInfo": {
     "elapsed": 26367,
     "status": "ok",
     "timestamp": 1733296251445,
     "user": {
      "displayName": "Clasificador CAMA",
      "userId": "04180014494601000487"
     },
     "user_tz": 360
    },
    "id": "nvXwVhDHKDqZ",
    "outputId": "7b47f30d-088f-4724-dc2f-6709d2d53359"
   },
   "outputs": [
    {
     "name": "stdout",
     "output_type": "stream",
     "text": [
      "Found 10437 files belonging to 2 classes.\n",
      "Using 8350 files for training.\n",
      "Found 10437 files belonging to 2 classes.\n",
      "Using 2087 files for validation.\n",
      "Found 796 files belonging to 2 classes.\n"
     ]
    }
   ],
   "source": [
    "#Imagenes para el entrenamiento\n",
    "trains_ds = tf.keras.utils.image_dataset_from_directory(\n",
    "    '/content/drive/MyDrive/dataset/train_val',\n",
    "    validation_split=0.2,\n",
    "    subset = \"training\",\n",
    "    seed=123,\n",
    "    image_size=(224,224)\n",
    ")\n",
    "#Imagenes para la validacion\n",
    "val_ds = tf.keras.utils.image_dataset_from_directory(\n",
    "     '/content/drive/MyDrive/dataset/train_val',\n",
    "    validation_split=0.2,\n",
    "    subset = \"validation\",\n",
    "    seed=123,\n",
    "    image_size=(224,224)\n",
    ")\n",
    "\n",
    "test_ds = tf.keras.utils.image_dataset_from_directory(\n",
    "    '/content/drive/MyDrive/dataset/test',\n",
    "    image_size=(224, 224),  # Resize images to a standard size\n",
    "    batch_size=32,          # Adjust batch size as needed\n",
    "    shuffle=False           # Usually shuffle is False for test sets\n",
    ")"
   ]
  },
  {
   "cell_type": "code",
   "execution_count": 5,
   "metadata": {
    "colab": {
     "base_uri": "https://localhost:8080/"
    },
    "executionInfo": {
     "elapsed": 218,
     "status": "ok",
     "timestamp": 1733296291740,
     "user": {
      "displayName": "Clasificador CAMA",
      "userId": "04180014494601000487"
     },
     "user_tz": 360
    },
    "id": "D1GVNWeqpeib",
    "outputId": "dcac555f-8649-4fca-c7e6-13864c4e632a"
   },
   "outputs": [
    {
     "name": "stdout",
     "output_type": "stream",
     "text": [
      "['benign', 'malignant']\n"
     ]
    }
   ],
   "source": [
    "#Aqui podemos verificar cuales son las clases de nuestro dataset\n",
    "class_names = test_ds.class_names\n",
    "print(class_names)"
   ]
  },
  {
   "cell_type": "code",
   "execution_count": 25,
   "metadata": {
    "executionInfo": {
     "elapsed": 14,
     "status": "ok",
     "timestamp": 1733257889329,
     "user": {
      "displayName": "Clasificador CAMA",
      "userId": "04180014494601000487"
     },
     "user_tz": 360
    },
    "id": "bMLe4EL7vswq"
   },
   "outputs": [],
   "source": [
    "import tensorflow as tf\n",
    "\n",
    "def calculate_class_distribution(dataset, class_names):\n",
    "    # Extract labels from the dataset\n",
    "    labels = tf.concat([y for _, y in dataset], axis=0)\n",
    "\n",
    "    # Count occurrences of each class\n",
    "    class_counts = tf.math.bincount(labels, minlength=len(class_names)).numpy()\n",
    "\n",
    "    # Print total images and per-class distribution\n",
    "    total_images = sum(class_counts)\n",
    "    print(f\"Total images: {total_images}\")\n",
    "    for idx, count in enumerate(class_counts):\n",
    "        print(f\"Images in class '{class_names[idx]}': {count} ({(count / total_images) * 100:.2f}%)\")"
   ]
  },
  {
   "cell_type": "code",
   "execution_count": 26,
   "metadata": {
    "colab": {
     "base_uri": "https://localhost:8080/"
    },
    "executionInfo": {
     "elapsed": 220668,
     "status": "ok",
     "timestamp": 1733258109987,
     "user": {
      "displayName": "Clasificador CAMA",
      "userId": "04180014494601000487"
     },
     "user_tz": 360
    },
    "id": "JtTNLyNlvyav",
    "outputId": "3fb858d3-52e4-4d44-af2e-172bdc8900b1"
   },
   "outputs": [
    {
     "name": "stdout",
     "output_type": "stream",
     "text": [
      "Total images: 8350\n",
      "Images in class 'benign': 4392 (52.60%)\n",
      "Images in class 'malignant': 3958 (47.40%)\n"
     ]
    }
   ],
   "source": [
    "# Example usage\n",
    "class_names = ['benign', 'malignant']\n",
    "calculate_class_distribution(trains_ds, class_names)"
   ]
  },
  {
   "cell_type": "markdown",
   "metadata": {
    "id": "QJdYRFMYpZCN"
   },
   "source": [
    "# Cargamos los modelos"
   ]
  },
  {
   "cell_type": "code",
   "execution_count": null,
   "metadata": {
    "colab": {
     "base_uri": "https://localhost:8080/"
    },
    "executionInfo": {
     "elapsed": 396,
     "status": "ok",
     "timestamp": 1733202801878,
     "user": {
      "displayName": "Clasificador CAMA",
      "userId": "04180014494601000487"
     },
     "user_tz": 360
    },
    "id": "SPjH2tsoKQo-",
    "outputId": "2b8cdf11-9f63-41a0-c418-30eb24229bae"
   },
   "outputs": [
    {
     "name": "stderr",
     "output_type": "stream",
     "text": [
      "WARNING:absl:Compiled the loaded model, but the compiled metrics have yet to be built. `model.compile_metrics` will be empty until you train or evaluate the model.\n"
     ]
    }
   ],
   "source": [
    "carga_modelo_1 = tf.keras.models.load_model('/content/drive/MyDrive/model_1.h5')"
   ]
  },
  {
   "cell_type": "code",
   "execution_count": null,
   "metadata": {
    "colab": {
     "base_uri": "https://localhost:8080/"
    },
    "executionInfo": {
     "elapsed": 445,
     "status": "ok",
     "timestamp": 1733202803334,
     "user": {
      "displayName": "Clasificador CAMA",
      "userId": "04180014494601000487"
     },
     "user_tz": 360
    },
    "id": "rq_JvYcpKXPJ",
    "outputId": "f6eb1b59-a7fb-4afa-ae65-9c097cf1588f"
   },
   "outputs": [
    {
     "name": "stdout",
     "output_type": "stream",
     "text": [
      "\u001b[1m1/1\u001b[0m \u001b[32m━━━━━━━━━━━━━━━━━━━━\u001b[0m\u001b[37m\u001b[0m \u001b[1m0s\u001b[0m 131ms/step\n",
      "Esta imagen parece ser benign con un 85.03 % de exactitud.\n"
     ]
    }
   ],
   "source": [
    "#Cargamos uuna imagen para realizar una prediccion\n",
    "imagen_path = '/content/drive/MyDrive/breast/benign/SOB/adenosis/SOB_B_A_14-22549AB/100X/SOB_B_A-14-22549AB-100-001.png'\n",
    "imagen = tf.keras.preprocessing.image.load_img(imagen_path, target_size=(224, 224))\n",
    "input_arr = tf.keras.preprocessing.image.img_to_array(imagen)\n",
    "input_arr = np.array([input_arr])\n",
    "predictions = carga_modelo_1.predict(input_arr)\n",
    "\n",
    "#Imprimimos la prediccion\n",
    "score = tf.nn.softmax(predictions[0])\n",
    "print(\n",
    "    \"Esta imagen parece ser {} con un {:.2f} % de exactitud.\"\n",
    "    .format(class_names[np.argmax(score)],100 * np.max(score))\n",
    ")"
   ]
  },
  {
   "cell_type": "code",
   "execution_count": null,
   "metadata": {
    "colab": {
     "base_uri": "https://localhost:8080/"
    },
    "executionInfo": {
     "elapsed": 4007,
     "status": "ok",
     "timestamp": 1733198822518,
     "user": {
      "displayName": "Clasificador CAMA",
      "userId": "04180014494601000487"
     },
     "user_tz": 360
    },
    "id": "5HpF7sdX3oE5",
    "outputId": "55ae4095-b32e-4289-f468-683f402605f0"
   },
   "outputs": [
    {
     "name": "stderr",
     "output_type": "stream",
     "text": [
      "WARNING:absl:Compiled the loaded model, but the compiled metrics have yet to be built. `model.compile_metrics` will be empty until you train or evaluate the model.\n"
     ]
    }
   ],
   "source": [
    "carga_modelo_2 = tf.keras.models.load_model('/content/drive/MyDrive/model_2.h5')"
   ]
  },
  {
   "cell_type": "code",
   "execution_count": null,
   "metadata": {
    "colab": {
     "base_uri": "https://localhost:8080/"
    },
    "executionInfo": {
     "elapsed": 1822,
     "status": "ok",
     "timestamp": 1733198825263,
     "user": {
      "displayName": "Clasificador CAMA",
      "userId": "04180014494601000487"
     },
     "user_tz": 360
    },
    "id": "LiMchAIn3s_M",
    "outputId": "d1d40984-9bd8-4647-fef3-0dd02e007ca6"
   },
   "outputs": [
    {
     "name": "stdout",
     "output_type": "stream",
     "text": [
      "\u001b[1m1/1\u001b[0m \u001b[32m━━━━━━━━━━━━━━━━━━━━\u001b[0m\u001b[37m\u001b[0m \u001b[1m0s\u001b[0m 251ms/step\n",
      "Esta imagen parece ser malignant con un 86.17 % de exactitud.\n"
     ]
    }
   ],
   "source": [
    "#Cargamos uuna imagen para realizar una prediccion\n",
    "imagen_path = '/content/drive/MyDrive/breast/malignant/SOB/ductal_carcinoma/SOB_M_DC_14-10926/200X/SOB_M_DC-14-10926-200-001.png'\n",
    "imagen = tf.keras.preprocessing.image.load_img(imagen_path, target_size=(224, 224))\n",
    "input_arr = tf.keras.preprocessing.image.img_to_array(imagen)\n",
    "input_arr = np.array([input_arr])\n",
    "predictions = carga_modelo_2.predict(input_arr)\n",
    "\n",
    "#Imprimimos la prediccion\n",
    "score = tf.nn.softmax(predictions[0])\n",
    "print(\n",
    "    \"Esta imagen parece ser {} con un {:.2f} % de exactitud.\"\n",
    "    .format(class_names[np.argmax(score)],100 * np.max(score))\n",
    ")"
   ]
  },
  {
   "cell_type": "code",
   "execution_count": null,
   "metadata": {
    "colab": {
     "base_uri": "https://localhost:8080/"
    },
    "executionInfo": {
     "elapsed": 635,
     "status": "ok",
     "timestamp": 1733202926988,
     "user": {
      "displayName": "Clasificador CAMA",
      "userId": "04180014494601000487"
     },
     "user_tz": 360
    },
    "id": "QF2F2mAklKFc",
    "outputId": "23473e76-7547-4f7d-b1ec-8ff26726e42d"
   },
   "outputs": [
    {
     "name": "stderr",
     "output_type": "stream",
     "text": [
      "WARNING:absl:Compiled the loaded model, but the compiled metrics have yet to be built. `model.compile_metrics` will be empty until you train or evaluate the model.\n"
     ]
    }
   ],
   "source": [
    "carga_modelo_cancer_2 = tf.keras.models.load_model('/content/drive/MyDrive/cancer_modelo_2.h5')"
   ]
  },
  {
   "cell_type": "code",
   "execution_count": null,
   "metadata": {
    "colab": {
     "base_uri": "https://localhost:8080/"
    },
    "executionInfo": {
     "elapsed": 389,
     "status": "ok",
     "timestamp": 1733202928385,
     "user": {
      "displayName": "Clasificador CAMA",
      "userId": "04180014494601000487"
     },
     "user_tz": 360
    },
    "id": "Qq4CeJL_lKxV",
    "outputId": "73a23fc9-29ca-40b8-8a87-02f32a4cd39e"
   },
   "outputs": [
    {
     "name": "stdout",
     "output_type": "stream",
     "text": [
      "\u001b[1m1/1\u001b[0m \u001b[32m━━━━━━━━━━━━━━━━━━━━\u001b[0m\u001b[37m\u001b[0m \u001b[1m0s\u001b[0m 126ms/step\n",
      "Esta imagen parece ser malignant con un 90.77 % de exactitud.\n"
     ]
    }
   ],
   "source": [
    "#Cargamos uuna imagen para realizar una prediccion\n",
    "imagen_path = '/content/drive/MyDrive/malignas/SOB_M_PC-14-19440-200-006.png'\n",
    "imagen = tf.keras.preprocessing.image.load_img(imagen_path, target_size=(224, 224))\n",
    "input_arr = tf.keras.preprocessing.image.img_to_array(imagen)\n",
    "input_arr = np.array([input_arr])\n",
    "predictions = carga_modelo_cancer_2.predict(input_arr)\n",
    "\n",
    "#Imprimimos la prediccion\n",
    "score = tf.nn.softmax(predictions[0])\n",
    "print(\n",
    "    \"Esta imagen parece ser {} con un {:.2f} % de exactitud.\"\n",
    "    .format(class_names[np.argmax(score)],100 * np.max(score))\n",
    ")"
   ]
  },
  {
   "cell_type": "code",
   "execution_count": null,
   "metadata": {
    "colab": {
     "base_uri": "https://localhost:8080/"
    },
    "executionInfo": {
     "elapsed": 2051,
     "status": "ok",
     "timestamp": 1733198841891,
     "user": {
      "displayName": "Clasificador CAMA",
      "userId": "04180014494601000487"
     },
     "user_tz": 360
    },
    "id": "JHHseytpm_6w",
    "outputId": "50fda801-dfd5-443f-cfaa-0d3ba52cb46b"
   },
   "outputs": [
    {
     "name": "stderr",
     "output_type": "stream",
     "text": [
      "WARNING:absl:Compiled the loaded model, but the compiled metrics have yet to be built. `model.compile_metrics` will be empty until you train or evaluate the model.\n"
     ]
    }
   ],
   "source": [
    "carga_modelo_cancer_3 = tf.keras.models.load_model('/content/drive/MyDrive/cancer_modelo_3.h5')"
   ]
  },
  {
   "cell_type": "code",
   "execution_count": null,
   "metadata": {
    "colab": {
     "base_uri": "https://localhost:8080/"
    },
    "executionInfo": {
     "elapsed": 399,
     "status": "ok",
     "timestamp": 1733198843617,
     "user": {
      "displayName": "Clasificador CAMA",
      "userId": "04180014494601000487"
     },
     "user_tz": 360
    },
    "id": "8mmuvi0anJ41",
    "outputId": "325edca9-09e9-4659-af4b-886fbad301e6"
   },
   "outputs": [
    {
     "name": "stderr",
     "output_type": "stream",
     "text": [
      "WARNING:tensorflow:5 out of the last 29 calls to <function TensorFlowTrainer.make_predict_function.<locals>.one_step_on_data_distributed at 0x783631a43910> triggered tf.function retracing. Tracing is expensive and the excessive number of tracings could be due to (1) creating @tf.function repeatedly in a loop, (2) passing tensors with different shapes, (3) passing Python objects instead of tensors. For (1), please define your @tf.function outside of the loop. For (2), @tf.function has reduce_retracing=True option that can avoid unnecessary retracing. For (3), please refer to https://www.tensorflow.org/guide/function#controlling_retracing and https://www.tensorflow.org/api_docs/python/tf/function for  more details.\n"
     ]
    },
    {
     "name": "stdout",
     "output_type": "stream",
     "text": [
      "\u001b[1m1/1\u001b[0m \u001b[32m━━━━━━━━━━━━━━━━━━━━\u001b[0m\u001b[37m\u001b[0m \u001b[1m0s\u001b[0m 139ms/step\n",
      "Esta imagen parece ser benign con un 97.28 % de exactitud.\n"
     ]
    }
   ],
   "source": [
    "#Cargamos uuna imagen para realizar una prediccion\n",
    "imagen_path = '/content/drive/MyDrive/breast/benign/SOB/adenosis/SOB_B_A_14-22549AB/100X/SOB_B_A-14-22549AB-100-001.png'\n",
    "imagen = tf.keras.preprocessing.image.load_img(imagen_path, target_size=(224, 224))\n",
    "input_arr = tf.keras.preprocessing.image.img_to_array(imagen)\n",
    "input_arr = np.array([input_arr])\n",
    "predictions = carga_modelo_cancer_3.predict(input_arr)\n",
    "\n",
    "#Imprimimos la prediccion\n",
    "score = tf.nn.softmax(predictions[0])\n",
    "print(\n",
    "    \"Esta imagen parece ser {} con un {:.2f} % de exactitud.\"\n",
    "    .format(class_names[np.argmax(score)],100 * np.max(score))\n",
    ")"
   ]
  },
  {
   "cell_type": "code",
   "execution_count": null,
   "metadata": {
    "colab": {
     "base_uri": "https://localhost:8080/"
    },
    "executionInfo": {
     "elapsed": 3964,
     "status": "ok",
     "timestamp": 1733198850729,
     "user": {
      "displayName": "Clasificador CAMA",
      "userId": "04180014494601000487"
     },
     "user_tz": 360
    },
    "id": "5PBQMabrpUpS",
    "outputId": "70d18692-a9cb-4af1-d941-d535a50cbc0a"
   },
   "outputs": [
    {
     "name": "stderr",
     "output_type": "stream",
     "text": [
      "WARNING:absl:Compiled the loaded model, but the compiled metrics have yet to be built. `model.compile_metrics` will be empty until you train or evaluate the model.\n"
     ]
    }
   ],
   "source": [
    "carga_modelo_m = tf.keras.models.load_model('/content/drive/MyDrive/cancer_modelo_miau_1.h5')"
   ]
  },
  {
   "cell_type": "code",
   "execution_count": null,
   "metadata": {
    "colab": {
     "base_uri": "https://localhost:8080/"
    },
    "executionInfo": {
     "elapsed": 473,
     "status": "ok",
     "timestamp": 1733198852117,
     "user": {
      "displayName": "Clasificador CAMA",
      "userId": "04180014494601000487"
     },
     "user_tz": 360
    },
    "id": "DEGkJjARpJNL",
    "outputId": "7a52c36e-c16a-449f-f095-8e6d629f15b5"
   },
   "outputs": [
    {
     "name": "stderr",
     "output_type": "stream",
     "text": [
      "WARNING:tensorflow:6 out of the last 30 calls to <function TensorFlowTrainer.make_predict_function.<locals>.one_step_on_data_distributed at 0x783629ddcee0> triggered tf.function retracing. Tracing is expensive and the excessive number of tracings could be due to (1) creating @tf.function repeatedly in a loop, (2) passing tensors with different shapes, (3) passing Python objects instead of tensors. For (1), please define your @tf.function outside of the loop. For (2), @tf.function has reduce_retracing=True option that can avoid unnecessary retracing. For (3), please refer to https://www.tensorflow.org/guide/function#controlling_retracing and https://www.tensorflow.org/api_docs/python/tf/function for  more details.\n"
     ]
    },
    {
     "name": "stdout",
     "output_type": "stream",
     "text": [
      "\u001b[1m1/1\u001b[0m \u001b[32m━━━━━━━━━━━━━━━━━━━━\u001b[0m\u001b[37m\u001b[0m \u001b[1m0s\u001b[0m 191ms/step\n",
      "Esta imagen parece ser benign con un 100.00 % de exactitud.\n"
     ]
    }
   ],
   "source": [
    "#Cargamos uuna imagen para realizar una prediccion\n",
    "imagen_path = '/content/drive/MyDrive/breast/benign/SOB/adenosis/SOB_B_A_14-22549AB/100X/SOB_B_A-14-22549AB-100-001.png'\n",
    "imagen = tf.keras.preprocessing.image.load_img(imagen_path, target_size=(224, 224))\n",
    "input_arr = tf.keras.preprocessing.image.img_to_array(imagen)\n",
    "input_arr = np.array([input_arr])\n",
    "predictions = carga_modelo_m.predict(input_arr)\n",
    "\n",
    "#Imprimimos la prediccion\n",
    "score = tf.nn.softmax(predictions[0])\n",
    "print(\n",
    "    \"Esta imagen parece ser {} con un {:.2f} % de exactitud.\"\n",
    "    .format(class_names[np.argmax(score)],100 * np.max(score))\n",
    ")"
   ]
  },
  {
   "cell_type": "code",
   "execution_count": 15,
   "metadata": {
    "colab": {
     "base_uri": "https://localhost:8080/"
    },
    "executionInfo": {
     "elapsed": 3020,
     "status": "ok",
     "timestamp": 1733286572652,
     "user": {
      "displayName": "Clasificador CAMA",
      "userId": "04180014494601000487"
     },
     "user_tz": 360
    },
    "id": "0WobPNNB7KzS",
    "outputId": "18689dd5-6607-4e9c-c9bc-34e9f9a75f9b"
   },
   "outputs": [
    {
     "name": "stderr",
     "output_type": "stream",
     "text": [
      "WARNING:absl:Compiled the loaded model, but the compiled metrics have yet to be built. `model.compile_metrics` will be empty until you train or evaluate the model.\n"
     ]
    }
   ],
   "source": [
    "carga_modelo_m_1 = tf.keras.models.load_model('/content/drive/MyDrive/cancer_modelo_miau_1_da.h5')"
   ]
  },
  {
   "cell_type": "code",
   "execution_count": 16,
   "metadata": {
    "colab": {
     "base_uri": "https://localhost:8080/"
    },
    "executionInfo": {
     "elapsed": 586,
     "status": "ok",
     "timestamp": 1733286593899,
     "user": {
      "displayName": "Clasificador CAMA",
      "userId": "04180014494601000487"
     },
     "user_tz": 360
    },
    "id": "-VW03i3L7mOW",
    "outputId": "fc7ddb18-e7c5-43b4-fa39-62bf8e04913c"
   },
   "outputs": [
    {
     "name": "stdout",
     "output_type": "stream",
     "text": [
      "\u001b[1m1/1\u001b[0m \u001b[32m━━━━━━━━━━━━━━━━━━━━\u001b[0m\u001b[37m\u001b[0m \u001b[1m0s\u001b[0m 216ms/step\n",
      "Esta imagen parece ser benign con un 100.00 % de exactitud.\n"
     ]
    }
   ],
   "source": [
    "#Cargamos uuna imagen para realizar una prediccion\n",
    "imagen_path = '/content/drive/MyDrive/breast/benign/SOB/adenosis/SOB_B_A_14-22549AB/100X/SOB_B_A-14-22549AB-100-001.png'\n",
    "imagen = tf.keras.preprocessing.image.load_img(imagen_path, target_size=(224, 224))\n",
    "input_arr = tf.keras.preprocessing.image.img_to_array(imagen)\n",
    "input_arr = np.array([input_arr])\n",
    "predictions = carga_modelo_m_1.predict(input_arr)\n",
    "\n",
    "#Imprimimos la prediccion\n",
    "score = tf.nn.softmax(predictions[0])\n",
    "print(\n",
    "    \"Esta imagen parece ser {} con un {:.2f} % de exactitud.\"\n",
    "    .format(class_names[np.argmax(score)],100 * np.max(score))\n",
    ")"
   ]
  },
  {
   "cell_type": "code",
   "execution_count": null,
   "metadata": {
    "colab": {
     "base_uri": "https://localhost:8080/"
    },
    "executionInfo": {
     "elapsed": 369,
     "status": "ok",
     "timestamp": 1733198862005,
     "user": {
      "displayName": "Clasificador CAMA",
      "userId": "04180014494601000487"
     },
     "user_tz": 360
    },
    "id": "p96XdWu7hAwV",
    "outputId": "2bd12ed2-6bee-45f1-d059-f7de6ecae707"
   },
   "outputs": [
    {
     "name": "stderr",
     "output_type": "stream",
     "text": [
      "WARNING:absl:Compiled the loaded model, but the compiled metrics have yet to be built. `model.compile_metrics` will be empty until you train or evaluate the model.\n"
     ]
    }
   ],
   "source": [
    "carga_modelo_2_c = tf.keras.models.load_model('/content/drive/MyDrive/cancer_modelo_2_c.h5')"
   ]
  },
  {
   "cell_type": "code",
   "execution_count": null,
   "metadata": {
    "colab": {
     "base_uri": "https://localhost:8080/"
    },
    "executionInfo": {
     "elapsed": 533,
     "status": "ok",
     "timestamp": 1733198864651,
     "user": {
      "displayName": "Clasificador CAMA",
      "userId": "04180014494601000487"
     },
     "user_tz": 360
    },
    "id": "jXNUyHr7hLXp",
    "outputId": "1833f3c9-0f8c-4bb5-f647-3f3e4352afbc"
   },
   "outputs": [
    {
     "name": "stdout",
     "output_type": "stream",
     "text": [
      "\u001b[1m1/1\u001b[0m \u001b[32m━━━━━━━━━━━━━━━━━━━━\u001b[0m\u001b[37m\u001b[0m \u001b[1m0s\u001b[0m 266ms/step\n",
      "Esta imagen parece ser benign con un 100.00 % de exactitud.\n"
     ]
    }
   ],
   "source": [
    "#Cargamos uuna imagen para realizar una prediccion\n",
    "imagen_path = '/content/drive/MyDrive/breast/benign/SOB/adenosis/SOB_B_A_14-22549AB/100X/SOB_B_A-14-22549AB-100-001.png'\n",
    "imagen = tf.keras.preprocessing.image.load_img(imagen_path, target_size=(224, 224))\n",
    "input_arr = tf.keras.preprocessing.image.img_to_array(imagen)\n",
    "input_arr = np.array([input_arr])\n",
    "predictions = carga_modelo_2_c.predict(input_arr)\n",
    "\n",
    "#Imprimimos la prediccion\n",
    "score = tf.nn.softmax(predictions[0])\n",
    "print(\n",
    "    \"Esta imagen parece ser {} con un {:.2f} % de exactitud.\"\n",
    "    .format(class_names[np.argmax(score)],100 * np.max(score))\n",
    ")"
   ]
  },
  {
   "cell_type": "code",
   "execution_count": 12,
   "metadata": {
    "colab": {
     "base_uri": "https://localhost:8080/"
    },
    "executionInfo": {
     "elapsed": 3507,
     "status": "ok",
     "timestamp": 1733275480571,
     "user": {
      "displayName": "Clasificador CAMA",
      "userId": "04180014494601000487"
     },
     "user_tz": 360
    },
    "id": "Gj6cozUvG0ST",
    "outputId": "113abd20-4d09-4969-c3d3-eb5db4d64909"
   },
   "outputs": [
    {
     "name": "stderr",
     "output_type": "stream",
     "text": [
      "WARNING:absl:Compiled the loaded model, but the compiled metrics have yet to be built. `model.compile_metrics` will be empty until you train or evaluate the model.\n"
     ]
    }
   ],
   "source": [
    "carga_modelo_fina = tf.keras.models.load_model('/content/drive/MyDrive/cancer_modelo_fina.h5')"
   ]
  },
  {
   "cell_type": "code",
   "execution_count": 13,
   "metadata": {
    "colab": {
     "base_uri": "https://localhost:8080/"
    },
    "executionInfo": {
     "elapsed": 252,
     "status": "ok",
     "timestamp": 1733275484020,
     "user": {
      "displayName": "Clasificador CAMA",
      "userId": "04180014494601000487"
     },
     "user_tz": 360
    },
    "id": "JAwOS0gbG7WJ",
    "outputId": "ca1b87af-0090-4445-8158-9c20dbb96dec"
   },
   "outputs": [
    {
     "name": "stdout",
     "output_type": "stream",
     "text": [
      "\u001b[1m1/1\u001b[0m \u001b[32m━━━━━━━━━━━━━━━━━━━━\u001b[0m\u001b[37m\u001b[0m \u001b[1m0s\u001b[0m 102ms/step\n",
      "Esta imagen parece ser benign con un 100.00 % de exactitud.\n"
     ]
    }
   ],
   "source": [
    "#Cargamos uuna imagen para realizar una prediccion\n",
    "imagen_path = '/content/drive/MyDrive/breast/benign/SOB/adenosis/SOB_B_A_14-22549AB/100X/SOB_B_A-14-22549AB-100-001.png'\n",
    "imagen = tf.keras.preprocessing.image.load_img(imagen_path, target_size=(224, 224))\n",
    "input_arr = tf.keras.preprocessing.image.img_to_array(imagen)\n",
    "input_arr = np.array([input_arr])\n",
    "predictions = carga_modelo_fina.predict(input_arr)\n",
    "\n",
    "#Imprimimos la prediccion\n",
    "score = tf.nn.softmax(predictions[0])\n",
    "print(\n",
    "    \"Esta imagen parece ser {} con un {:.2f} % de exactitud.\"\n",
    "    .format(class_names[np.argmax(score)],100 * np.max(score))\n",
    ")"
   ]
  },
  {
   "cell_type": "code",
   "execution_count": 3,
   "metadata": {
    "colab": {
     "base_uri": "https://localhost:8080/"
    },
    "executionInfo": {
     "elapsed": 5010,
     "status": "ok",
     "timestamp": 1733296263102,
     "user": {
      "displayName": "Clasificador CAMA",
      "userId": "04180014494601000487"
     },
     "user_tz": 360
    },
    "id": "dX5cnI5ggXlM",
    "outputId": "6469e54d-5d9b-4fdd-9460-eff9ca3edb6b"
   },
   "outputs": [
    {
     "name": "stderr",
     "output_type": "stream",
     "text": [
      "WARNING:absl:Compiled the loaded model, but the compiled metrics have yet to be built. `model.compile_metrics` will be empty until you train or evaluate the model.\n"
     ]
    }
   ],
   "source": [
    "carga_modelo_trans = tf.keras.models.load_model('/content/drive/MyDrive/cancer_modelo_trans.h5')"
   ]
  },
  {
   "cell_type": "code",
   "execution_count": 6,
   "metadata": {
    "colab": {
     "base_uri": "https://localhost:8080/"
    },
    "executionInfo": {
     "elapsed": 167,
     "status": "ok",
     "timestamp": 1733296300862,
     "user": {
      "displayName": "Clasificador CAMA",
      "userId": "04180014494601000487"
     },
     "user_tz": 360
    },
    "id": "gPdfiyXqghd8",
    "outputId": "0e996a61-6b0f-4503-e919-b9083edb1c30"
   },
   "outputs": [
    {
     "name": "stdout",
     "output_type": "stream",
     "text": [
      "\u001b[1m1/1\u001b[0m \u001b[32m━━━━━━━━━━━━━━━━━━━━\u001b[0m\u001b[37m\u001b[0m \u001b[1m0s\u001b[0m 146ms/step\n",
      "Esta imagen parece ser benign con un 100.00 % de exactitud.\n"
     ]
    }
   ],
   "source": [
    "#Cargamos uuna imagen para realizar una prediccion\n",
    "imagen_path = '/content/drive/MyDrive/breast/benign/SOB/adenosis/SOB_B_A_14-22549AB/100X/SOB_B_A-14-22549AB-100-001.png'\n",
    "imagen = tf.keras.preprocessing.image.load_img(imagen_path, target_size=(224, 224))\n",
    "input_arr = tf.keras.preprocessing.image.img_to_array(imagen)\n",
    "input_arr = np.array([input_arr])\n",
    "predictions = carga_modelo_trans.predict(input_arr)\n",
    "\n",
    "#Imprimimos la prediccion\n",
    "score = tf.nn.softmax(predictions[0])\n",
    "print(\n",
    "    \"Esta imagen parece ser {} con un {:.2f} % de exactitud.\"\n",
    "    .format(class_names[np.argmax(score)],100 * np.max(score))\n",
    ")"
   ]
  },
  {
   "cell_type": "markdown",
   "metadata": {
    "id": "CedJL8UPnd2v"
   },
   "source": [
    "#Pruebas modelo 1"
   ]
  },
  {
   "cell_type": "markdown",
   "metadata": {
    "id": "ZcyllsrF8NPE"
   },
   "source": [
    "# F1-score"
   ]
  },
  {
   "cell_type": "code",
   "execution_count": null,
   "metadata": {
    "colab": {
     "base_uri": "https://localhost:8080/"
    },
    "executionInfo": {
     "elapsed": 103984,
     "status": "ok",
     "timestamp": 1733198989379,
     "user": {
      "displayName": "Clasificador CAMA",
      "userId": "04180014494601000487"
     },
     "user_tz": 360
    },
    "id": "oPWynifc8MvR",
    "outputId": "9c872969-0667-4c79-b3c1-1b3d037e5d8f"
   },
   "outputs": [
    {
     "name": "stdout",
     "output_type": "stream",
     "text": [
      "\u001b[1m25/25\u001b[0m \u001b[32m━━━━━━━━━━━━━━━━━━━━\u001b[0m\u001b[37m\u001b[0m \u001b[1m42s\u001b[0m 2s/step\n"
     ]
    }
   ],
   "source": [
    "import numpy as np\n",
    "from sklearn.metrics import f1_score\n",
    "\n",
    "# Obtener imágenes y etiquetas del conjunto de datos\n",
    "images, labels = [], []\n",
    "for img_batch, label_batch in test_ds:\n",
    "    images.append(img_batch)\n",
    "    labels.append(label_batch)\n",
    "\n",
    "# Convertir a tensores\n",
    "images = tf.concat(images, axis=0)\n",
    "labels = tf.concat(labels, axis=0)\n",
    "\n",
    "# Predecir con el modelo\n",
    "predictions = carga_modelo_1.predict(images)\n",
    "predicted_labels = (predictions > 0.5).astype(int)  # Convertir probabilidades a etiquetas binarias\n"
   ]
  },
  {
   "cell_type": "code",
   "execution_count": null,
   "metadata": {
    "colab": {
     "base_uri": "https://localhost:8080/"
    },
    "executionInfo": {
     "elapsed": 146,
     "status": "ok",
     "timestamp": 1733198996801,
     "user": {
      "displayName": "Clasificador CAMA",
      "userId": "04180014494601000487"
     },
     "user_tz": 360
    },
    "id": "y0cfTnexTIi8",
    "outputId": "dc022558-40f5-479d-d579-1015aed0b663"
   },
   "outputs": [
    {
     "name": "stdout",
     "output_type": "stream",
     "text": [
      "F1-Score: 0.8690909090909091\n"
     ]
    }
   ],
   "source": [
    "# Calcular el F1-score\n",
    "# Convert predicted_labels to binary format by taking the argmax along axis 1\n",
    "predicted_labels_binary = np.argmax(predicted_labels, axis=1)\n",
    "\n",
    "# Now calculate the F1-score\n",
    "f1 = f1_score(labels.numpy(), predicted_labels_binary)\n",
    "print(\"F1-Score:\", f1)"
   ]
  },
  {
   "cell_type": "code",
   "execution_count": null,
   "metadata": {
    "colab": {
     "base_uri": "https://localhost:8080/"
    },
    "executionInfo": {
     "elapsed": 228,
     "status": "ok",
     "timestamp": 1733199000579,
     "user": {
      "displayName": "Clasificador CAMA",
      "userId": "04180014494601000487"
     },
     "user_tz": 360
    },
    "id": "xNxsu_rZUHfa",
    "outputId": "dcf4a1d4-658f-498e-956b-a9ef996f1f2c"
   },
   "outputs": [
    {
     "name": "stdout",
     "output_type": "stream",
     "text": [
      "F1-Score (ponderado): 0.8175933905752277\n",
      "F1-Score por clase: [0.67605634 0.88164666]\n",
      "F1-Score para la clase 'benign': 0.68\n",
      "F1-Score para la clase 'malignant': 0.88\n"
     ]
    }
   ],
   "source": [
    "# Calcular el F1-score\n",
    "# Convert predictions to binary format by choosing the class with the higher probability\n",
    "predicted_labels_binary = np.argmax(predictions, axis=1)\n",
    "\n",
    "# Now calculate the F1-score\n",
    "f1_weighted = f1_score(labels.numpy(), predicted_labels_binary, average='weighted')\n",
    "\n",
    "# F1-score para cada clase\n",
    "f1_per_class = f1_score(labels.numpy(), predicted_labels_binary, average=None)\n",
    "\n",
    "print(\"F1-Score (ponderado):\", f1_weighted)\n",
    "print(\"F1-Score por clase:\", f1_per_class)\n",
    "\n",
    "class_names = test_ds.class_names  # Si tienes nombres de clases del dataset\n",
    "for i, f1 in enumerate(f1_per_class):\n",
    "    print(f\"F1-Score para la clase '{class_names[i]}': {f1:.2f}\")"
   ]
  },
  {
   "cell_type": "markdown",
   "metadata": {
    "id": "lGsr4GGgN0h2"
   },
   "source": [
    "# Curva roc"
   ]
  },
  {
   "cell_type": "code",
   "execution_count": null,
   "metadata": {
    "colab": {
     "base_uri": "https://localhost:8080/",
     "height": 998
    },
    "executionInfo": {
     "elapsed": 82734,
     "status": "ok",
     "timestamp": 1733199097959,
     "user": {
      "displayName": "Clasificador CAMA",
      "userId": "04180014494601000487"
     },
     "user_tz": 360
    },
    "id": "TswgWqRpWl-9",
    "outputId": "99b9d738-6cb2-49c4-8fa0-439a4712999d"
   },
   "outputs": [
    {
     "name": "stdout",
     "output_type": "stream",
     "text": [
      "\u001b[1m1/1\u001b[0m \u001b[32m━━━━━━━━━━━━━━━━━━━━\u001b[0m\u001b[37m\u001b[0m \u001b[1m3s\u001b[0m 3s/step\n",
      "\u001b[1m1/1\u001b[0m \u001b[32m━━━━━━━━━━━━━━━━━━━━\u001b[0m\u001b[37m\u001b[0m \u001b[1m3s\u001b[0m 3s/step\n",
      "\u001b[1m1/1\u001b[0m \u001b[32m━━━━━━━━━━━━━━━━━━━━\u001b[0m\u001b[37m\u001b[0m \u001b[1m3s\u001b[0m 3s/step\n",
      "\u001b[1m1/1\u001b[0m \u001b[32m━━━━━━━━━━━━━━━━━━━━\u001b[0m\u001b[37m\u001b[0m \u001b[1m2s\u001b[0m 2s/step\n",
      "\u001b[1m1/1\u001b[0m \u001b[32m━━━━━━━━━━━━━━━━━━━━\u001b[0m\u001b[37m\u001b[0m \u001b[1m2s\u001b[0m 2s/step\n",
      "\u001b[1m1/1\u001b[0m \u001b[32m━━━━━━━━━━━━━━━━━━━━\u001b[0m\u001b[37m\u001b[0m \u001b[1m2s\u001b[0m 2s/step\n",
      "\u001b[1m1/1\u001b[0m \u001b[32m━━━━━━━━━━━━━━━━━━━━\u001b[0m\u001b[37m\u001b[0m \u001b[1m2s\u001b[0m 2s/step\n",
      "\u001b[1m1/1\u001b[0m \u001b[32m━━━━━━━━━━━━━━━━━━━━\u001b[0m\u001b[37m\u001b[0m \u001b[1m2s\u001b[0m 2s/step\n",
      "\u001b[1m1/1\u001b[0m \u001b[32m━━━━━━━━━━━━━━━━━━━━\u001b[0m\u001b[37m\u001b[0m \u001b[1m3s\u001b[0m 3s/step\n",
      "\u001b[1m1/1\u001b[0m \u001b[32m━━━━━━━━━━━━━━━━━━━━\u001b[0m\u001b[37m\u001b[0m \u001b[1m3s\u001b[0m 3s/step\n",
      "\u001b[1m1/1\u001b[0m \u001b[32m━━━━━━━━━━━━━━━━━━━━\u001b[0m\u001b[37m\u001b[0m \u001b[1m2s\u001b[0m 2s/step\n",
      "\u001b[1m1/1\u001b[0m \u001b[32m━━━━━━━━━━━━━━━━━━━━\u001b[0m\u001b[37m\u001b[0m \u001b[1m2s\u001b[0m 2s/step\n",
      "\u001b[1m1/1\u001b[0m \u001b[32m━━━━━━━━━━━━━━━━━━━━\u001b[0m\u001b[37m\u001b[0m \u001b[1m2s\u001b[0m 2s/step\n",
      "\u001b[1m1/1\u001b[0m \u001b[32m━━━━━━━━━━━━━━━━━━━━\u001b[0m\u001b[37m\u001b[0m \u001b[1m2s\u001b[0m 2s/step\n",
      "\u001b[1m1/1\u001b[0m \u001b[32m━━━━━━━━━━━━━━━━━━━━\u001b[0m\u001b[37m\u001b[0m \u001b[1m2s\u001b[0m 2s/step\n",
      "\u001b[1m1/1\u001b[0m \u001b[32m━━━━━━━━━━━━━━━━━━━━\u001b[0m\u001b[37m\u001b[0m \u001b[1m2s\u001b[0m 2s/step\n",
      "\u001b[1m1/1\u001b[0m \u001b[32m━━━━━━━━━━━━━━━━━━━━\u001b[0m\u001b[37m\u001b[0m \u001b[1m3s\u001b[0m 3s/step\n",
      "\u001b[1m1/1\u001b[0m \u001b[32m━━━━━━━━━━━━━━━━━━━━\u001b[0m\u001b[37m\u001b[0m \u001b[1m3s\u001b[0m 3s/step\n",
      "\u001b[1m1/1\u001b[0m \u001b[32m━━━━━━━━━━━━━━━━━━━━\u001b[0m\u001b[37m\u001b[0m \u001b[1m2s\u001b[0m 2s/step\n",
      "\u001b[1m1/1\u001b[0m \u001b[32m━━━━━━━━━━━━━━━━━━━━\u001b[0m\u001b[37m\u001b[0m \u001b[1m2s\u001b[0m 2s/step\n",
      "\u001b[1m1/1\u001b[0m \u001b[32m━━━━━━━━━━━━━━━━━━━━\u001b[0m\u001b[37m\u001b[0m \u001b[1m2s\u001b[0m 2s/step\n",
      "\u001b[1m1/1\u001b[0m \u001b[32m━━━━━━━━━━━━━━━━━━━━\u001b[0m\u001b[37m\u001b[0m \u001b[1m2s\u001b[0m 2s/step\n",
      "\u001b[1m1/1\u001b[0m \u001b[32m━━━━━━━━━━━━━━━━━━━━\u001b[0m\u001b[37m\u001b[0m \u001b[1m1s\u001b[0m 1s/step\n",
      "\u001b[1m1/1\u001b[0m \u001b[32m━━━━━━━━━━━━━━━━━━━━\u001b[0m\u001b[37m\u001b[0m \u001b[1m2s\u001b[0m 2s/step\n",
      "\u001b[1m1/1\u001b[0m \u001b[32m━━━━━━━━━━━━━━━━━━━━\u001b[0m\u001b[37m\u001b[0m \u001b[1m2s\u001b[0m 2s/step\n"
     ]
    },
    {
     "data": {
      "image/png": "[encoded data removed]",
      "text/plain": [
       "<Figure size 800x600 with 1 Axes>"
      ]
     },
     "metadata": {},
     "output_type": "display_data"
    }
   ],
   "source": [
    "import tensorflow as tf\n",
    "import numpy as np\n",
    "import matplotlib.pyplot as plt\n",
    "from sklearn.metrics import roc_curve, auc\n",
    "\n",
    "# 1. Evaluar el modelo en el conjunto de prueba\n",
    "y_true = []  # Etiquetas verdaderas\n",
    "y_pred = []  # Probabilidades predichas\n",
    "\n",
    "for images, labels in test_ds:\n",
    "    y_true.extend(labels.numpy())  # Convertir tensores a numpy\n",
    "    # Get predictions for the positive class (assuming binary classification)\n",
    "    predictions = carga_modelo_1.predict(images)\n",
    "    # If your model outputs a single probability for the positive class, use:\n",
    "    # y_pred.extend(predictions)\n",
    "    # If your model outputs probabilities for multiple classes, use:\n",
    "    y_pred.extend(predictions[:, 1])  # Assuming the second column represents the positive class\n",
    "\n",
    "\n",
    "y_true = np.array(y_true)\n",
    "y_pred = np.array(y_pred)\n",
    "\n",
    "# 2. Calcular la curva ROC\n",
    "fpr, tpr, thresholds = roc_curve(y_true, y_pred)\n",
    "roc_auc = auc(fpr, tpr)\n",
    "\n",
    "# 3. Graficar la curva ROC\n",
    "plt.figure(figsize=(8, 6))\n",
    "plt.plot(fpr, tpr, color='darkorange', lw=2, label=f'ROC curve (AUC = {roc_auc:.2f})')\n",
    "plt.plot([0, 1], [0, 1], color='navy', lw=2, linestyle='--')  # Línea diagonal (azar)\n",
    "plt.xlabel('False Positive Rate')\n",
    "plt.ylabel('True Positive Rate')\n",
    "plt.title('Receiver Operating Characteristic (ROC)')\n",
    "plt.legend(loc=\"lower right\")\n",
    "plt.grid(alpha=0.4)\n",
    "plt.show()"
   ]
  },
  {
   "cell_type": "markdown",
   "metadata": {
    "id": "xp2U2fIkexL-"
   },
   "source": [
    "#Pruebas modelo 2"
   ]
  },
  {
   "cell_type": "markdown",
   "metadata": {
    "id": "he7x0N-wnZR0"
   },
   "source": [
    "#F1-score"
   ]
  },
  {
   "cell_type": "code",
   "execution_count": null,
   "metadata": {
    "colab": {
     "base_uri": "https://localhost:8080/"
    },
    "executionInfo": {
     "elapsed": 52223,
     "status": "ok",
     "timestamp": 1733199206053,
     "user": {
      "displayName": "Clasificador CAMA",
      "userId": "04180014494601000487"
     },
     "user_tz": 360
    },
    "id": "FFtMJeNMez1e",
    "outputId": "73875965-9cd3-4a28-f47a-a84b922ef3ea"
   },
   "outputs": [
    {
     "name": "stdout",
     "output_type": "stream",
     "text": [
      "\u001b[1m25/25\u001b[0m \u001b[32m━━━━━━━━━━━━━━━━━━━━\u001b[0m\u001b[37m\u001b[0m \u001b[1m39s\u001b[0m 2s/step\n"
     ]
    }
   ],
   "source": [
    "import numpy as np\n",
    "from sklearn.metrics import f1_score\n",
    "\n",
    "# Obtener imágenes y etiquetas del conjunto de datos\n",
    "images, labels = [], []\n",
    "for img_batch, label_batch in test_ds:\n",
    "    images.append(img_batch)\n",
    "    labels.append(label_batch)\n",
    "\n",
    "# Convertir a tensores\n",
    "images = tf.concat(images, axis=0)\n",
    "labels = tf.concat(labels, axis=0)\n",
    "\n",
    "# Predecir con el modelo\n",
    "predictions = carga_modelo_2.predict(images)\n",
    "predicted_labels = (predictions > 0.5).astype(int)  # Convertir probabilidades a etiquetas binarias"
   ]
  },
  {
   "cell_type": "code",
   "execution_count": null,
   "metadata": {
    "colab": {
     "base_uri": "https://localhost:8080/"
    },
    "executionInfo": {
     "elapsed": 164,
     "status": "ok",
     "timestamp": 1733199219718,
     "user": {
      "displayName": "Clasificador CAMA",
      "userId": "04180014494601000487"
     },
     "user_tz": 360
    },
    "id": "mSpjufiqfE1z",
    "outputId": "89c2731f-3c04-4448-9b49-cbc43f32ecc8"
   },
   "outputs": [
    {
     "name": "stdout",
     "output_type": "stream",
     "text": [
      "F1-Score: 0.8874887488748875\n"
     ]
    }
   ],
   "source": [
    "# Calcular el F1-score\n",
    "# Convert predicted_labels to binary format by taking the argmax along axis 1\n",
    "predicted_labels_binary = np.argmax(predicted_labels, axis=1)\n",
    "\n",
    "# Now calculate the F1-score\n",
    "f1 = f1_score(labels.numpy(), predicted_labels_binary)\n",
    "print(\"F1-Score:\", f1)"
   ]
  },
  {
   "cell_type": "code",
   "execution_count": null,
   "metadata": {
    "colab": {
     "base_uri": "https://localhost:8080/"
    },
    "executionInfo": {
     "elapsed": 158,
     "status": "ok",
     "timestamp": 1733199223456,
     "user": {
      "displayName": "Clasificador CAMA",
      "userId": "04180014494601000487"
     },
     "user_tz": 360
    },
    "id": "_OUCgoKifNpx",
    "outputId": "fd13c95a-a31f-460f-dbcb-16b95ff7bb17"
   },
   "outputs": [
    {
     "name": "stdout",
     "output_type": "stream",
     "text": [
      "F1-Score (ponderado): 0.8282158508901982\n",
      "F1-Score para la clase 'benign': 0.70\n",
      "F1-Score para la clase 'malignant': 0.89\n"
     ]
    }
   ],
   "source": [
    "# Calcular el F1-score\n",
    "# Convert predictions to binary format by choosing the class with the higher probability\n",
    "predicted_labels_binary = np.argmax(predictions, axis=1)\n",
    "\n",
    "# Now calculate the F1-score\n",
    "f1_weighted = f1_score(labels.numpy(), predicted_labels_binary, average='weighted')\n",
    "\n",
    "# F1-score para cada clase\n",
    "f1_per_class = f1_score(labels.numpy(), predicted_labels_binary, average=None)\n",
    "\n",
    "print(\"F1-Score (ponderado):\", f1_weighted)\n",
    "\n",
    "class_names = test_ds.class_names  # Si tienes nombres de clases del dataset\n",
    "for i, f1 in enumerate(f1_per_class):\n",
    "    print(f\"F1-Score para la clase '{class_names[i]}': {f1:.2f}\")"
   ]
  },
  {
   "cell_type": "markdown",
   "metadata": {
    "id": "ouB-mfx4mJpa"
   },
   "source": [
    "#Curva ROC"
   ]
  },
  {
   "cell_type": "code",
   "execution_count": null,
   "metadata": {
    "colab": {
     "base_uri": "https://localhost:8080/",
     "height": 998
    },
    "executionInfo": {
     "elapsed": 82512,
     "status": "ok",
     "timestamp": 1733199314622,
     "user": {
      "displayName": "Clasificador CAMA",
      "userId": "04180014494601000487"
     },
     "user_tz": 360
    },
    "id": "Hp3qmr2pmIbY",
    "outputId": "528cf851-21a7-4499-8e61-3a1efba5eacd"
   },
   "outputs": [
    {
     "name": "stdout",
     "output_type": "stream",
     "text": [
      "\u001b[1m1/1\u001b[0m \u001b[32m━━━━━━━━━━━━━━━━━━━━\u001b[0m\u001b[37m\u001b[0m \u001b[1m3s\u001b[0m 3s/step\n",
      "\u001b[1m1/1\u001b[0m \u001b[32m━━━━━━━━━━━━━━━━━━━━\u001b[0m\u001b[37m\u001b[0m \u001b[1m3s\u001b[0m 3s/step\n",
      "\u001b[1m1/1\u001b[0m \u001b[32m━━━━━━━━━━━━━━━━━━━━\u001b[0m\u001b[37m\u001b[0m \u001b[1m2s\u001b[0m 2s/step\n",
      "\u001b[1m1/1\u001b[0m \u001b[32m━━━━━━━━━━━━━━━━━━━━\u001b[0m\u001b[37m\u001b[0m \u001b[1m2s\u001b[0m 2s/step\n",
      "\u001b[1m1/1\u001b[0m \u001b[32m━━━━━━━━━━━━━━━━━━━━\u001b[0m\u001b[37m\u001b[0m \u001b[1m2s\u001b[0m 2s/step\n",
      "\u001b[1m1/1\u001b[0m \u001b[32m━━━━━━━━━━━━━━━━━━━━\u001b[0m\u001b[37m\u001b[0m \u001b[1m2s\u001b[0m 2s/step\n",
      "\u001b[1m1/1\u001b[0m \u001b[32m━━━━━━━━━━━━━━━━━━━━\u001b[0m\u001b[37m\u001b[0m \u001b[1m2s\u001b[0m 2s/step\n",
      "\u001b[1m1/1\u001b[0m \u001b[32m━━━━━━━━━━━━━━━━━━━━\u001b[0m\u001b[37m\u001b[0m \u001b[1m2s\u001b[0m 2s/step\n",
      "\u001b[1m1/1\u001b[0m \u001b[32m━━━━━━━━━━━━━━━━━━━━\u001b[0m\u001b[37m\u001b[0m \u001b[1m3s\u001b[0m 3s/step\n",
      "\u001b[1m1/1\u001b[0m \u001b[32m━━━━━━━━━━━━━━━━━━━━\u001b[0m\u001b[37m\u001b[0m \u001b[1m3s\u001b[0m 3s/step\n",
      "\u001b[1m1/1\u001b[0m \u001b[32m━━━━━━━━━━━━━━━━━━━━\u001b[0m\u001b[37m\u001b[0m \u001b[1m2s\u001b[0m 2s/step\n",
      "\u001b[1m1/1\u001b[0m \u001b[32m━━━━━━━━━━━━━━━━━━━━\u001b[0m\u001b[37m\u001b[0m \u001b[1m2s\u001b[0m 2s/step\n",
      "\u001b[1m1/1\u001b[0m \u001b[32m━━━━━━━━━━━━━━━━━━━━\u001b[0m\u001b[37m\u001b[0m \u001b[1m2s\u001b[0m 2s/step\n",
      "\u001b[1m1/1\u001b[0m \u001b[32m━━━━━━━━━━━━━━━━━━━━\u001b[0m\u001b[37m\u001b[0m \u001b[1m3s\u001b[0m 3s/step\n",
      "\u001b[1m1/1\u001b[0m \u001b[32m━━━━━━━━━━━━━━━━━━━━\u001b[0m\u001b[37m\u001b[0m \u001b[1m2s\u001b[0m 2s/step\n",
      "\u001b[1m1/1\u001b[0m \u001b[32m━━━━━━━━━━━━━━━━━━━━\u001b[0m\u001b[37m\u001b[0m \u001b[1m3s\u001b[0m 3s/step\n",
      "\u001b[1m1/1\u001b[0m \u001b[32m━━━━━━━━━━━━━━━━━━━━\u001b[0m\u001b[37m\u001b[0m \u001b[1m3s\u001b[0m 3s/step\n",
      "\u001b[1m1/1\u001b[0m \u001b[32m━━━━━━━━━━━━━━━━━━━━\u001b[0m\u001b[37m\u001b[0m \u001b[1m2s\u001b[0m 2s/step\n",
      "\u001b[1m1/1\u001b[0m \u001b[32m━━━━━━━━━━━━━━━━━━━━\u001b[0m\u001b[37m\u001b[0m \u001b[1m2s\u001b[0m 2s/step\n",
      "\u001b[1m1/1\u001b[0m \u001b[32m━━━━━━━━━━━━━━━━━━━━\u001b[0m\u001b[37m\u001b[0m \u001b[1m2s\u001b[0m 2s/step\n",
      "\u001b[1m1/1\u001b[0m \u001b[32m━━━━━━━━━━━━━━━━━━━━\u001b[0m\u001b[37m\u001b[0m \u001b[1m2s\u001b[0m 2s/step\n",
      "\u001b[1m1/1\u001b[0m \u001b[32m━━━━━━━━━━━━━━━━━━━━\u001b[0m\u001b[37m\u001b[0m \u001b[1m2s\u001b[0m 2s/step\n",
      "\u001b[1m1/1\u001b[0m \u001b[32m━━━━━━━━━━━━━━━━━━━━\u001b[0m\u001b[37m\u001b[0m \u001b[1m2s\u001b[0m 2s/step\n",
      "\u001b[1m1/1\u001b[0m \u001b[32m━━━━━━━━━━━━━━━━━━━━\u001b[0m\u001b[37m\u001b[0m \u001b[1m2s\u001b[0m 2s/step\n",
      "\u001b[1m1/1\u001b[0m \u001b[32m━━━━━━━━━━━━━━━━━━━━\u001b[0m\u001b[37m\u001b[0m \u001b[1m2s\u001b[0m 2s/step\n"
     ]
    },
    {
     "data": {
      "image/png": "[encoded data removed]",
      "text/plain": [
       "<Figure size 800x600 with 1 Axes>"
      ]
     },
     "metadata": {},
     "output_type": "display_data"
    }
   ],
   "source": [
    "import tensorflow as tf\n",
    "import numpy as np\n",
    "import matplotlib.pyplot as plt\n",
    "from sklearn.metrics import roc_curve, auc\n",
    "\n",
    "# 1. Evaluar el modelo en el conjunto de prueba\n",
    "y_true = []  # Etiquetas verdaderas\n",
    "y_pred = []  # Probabilidades predichas\n",
    "\n",
    "for images, labels in test_ds:\n",
    "    y_true.extend(labels.numpy())  # Convertir tensores a numpy\n",
    "    # Get predictions for the positive class (assuming binary classification)\n",
    "    predictions = carga_modelo_2.predict(images)\n",
    "    # If your model outputs a single probability for the positive class, use:\n",
    "    # y_pred.extend(predictions)\n",
    "    # If your model outputs probabilities for multiple classes, use:\n",
    "    y_pred.extend(predictions[:, 1])  # Assuming the second column represents the positive class\n",
    "\n",
    "\n",
    "y_true = np.array(y_true)\n",
    "y_pred = np.array(y_pred)\n",
    "\n",
    "# 2. Calcular la curva ROC\n",
    "fpr, tpr, thresholds = roc_curve(y_true, y_pred)\n",
    "roc_auc = auc(fpr, tpr)\n",
    "\n",
    "# 3. Graficar la curva ROC\n",
    "plt.figure(figsize=(8, 6))\n",
    "plt.plot(fpr, tpr, color='darkorange', lw=2, label=f'ROC curve (AUC = {roc_auc:.2f})')\n",
    "plt.plot([0, 1], [0, 1], color='navy', lw=2, linestyle='--')  # Línea diagonal (azar)\n",
    "plt.xlabel('False Positive Rate')\n",
    "plt.ylabel('True Positive Rate')\n",
    "plt.title('Receiver Operating Characteristic (ROC)')\n",
    "plt.legend(loc=\"lower right\")\n",
    "plt.grid(alpha=0.4)\n",
    "plt.show()"
   ]
  },
  {
   "cell_type": "markdown",
   "metadata": {
    "id": "_9hd69pJkvIV"
   },
   "source": [
    "# Modelos segunda parte:"
   ]
  },
  {
   "cell_type": "markdown",
   "metadata": {
    "id": "CnN7g7IokzL3"
   },
   "source": [
    "#Evaluacion modelo 2\n"
   ]
  },
  {
   "cell_type": "code",
   "execution_count": null,
   "metadata": {
    "colab": {
     "base_uri": "https://localhost:8080/"
    },
    "executionInfo": {
     "elapsed": 32246,
     "status": "ok",
     "timestamp": 1733199368132,
     "user": {
      "displayName": "Clasificador CAMA",
      "userId": "04180014494601000487"
     },
     "user_tz": 360
    },
    "id": "Cv-9BGVFk5wm",
    "outputId": "ecee4b89-695a-4417-b92a-851c15daedfd"
   },
   "outputs": [
    {
     "name": "stdout",
     "output_type": "stream",
     "text": [
      "\u001b[1m25/25\u001b[0m \u001b[32m━━━━━━━━━━━━━━━━━━━━\u001b[0m\u001b[37m\u001b[0m \u001b[1m19s\u001b[0m 753ms/step\n"
     ]
    }
   ],
   "source": [
    "import numpy as np\n",
    "from sklearn.metrics import f1_score\n",
    "\n",
    "# Obtener imágenes y etiquetas del conjunto de datos\n",
    "images, labels = [], []\n",
    "for img_batch, label_batch in test_ds:\n",
    "    images.append(img_batch)\n",
    "    labels.append(label_batch)\n",
    "\n",
    "# Convertir a tensores\n",
    "images = tf.concat(images, axis=0)\n",
    "labels = tf.concat(labels, axis=0)\n",
    "\n",
    "# Predecir con el modelo\n",
    "predictions = carga_modelo_cancer_2.predict(images)\n",
    "predicted_labels = (predictions > 0.5).astype(int)  # Convertir probabilidades a etiquetas binarias"
   ]
  },
  {
   "cell_type": "code",
   "execution_count": null,
   "metadata": {
    "colab": {
     "base_uri": "https://localhost:8080/"
    },
    "executionInfo": {
     "elapsed": 160,
     "status": "ok",
     "timestamp": 1733199384227,
     "user": {
      "displayName": "Clasificador CAMA",
      "userId": "04180014494601000487"
     },
     "user_tz": 360
    },
    "id": "ABNtUoOjlGMM",
    "outputId": "c4bea18c-a20f-4f27-d919-fbf3451ceb35"
   },
   "outputs": [
    {
     "name": "stdout",
     "output_type": "stream",
     "text": [
      "F1-Score (ponderado): 0.8312756409110064\n",
      "F1-Score para la clase 'benign': 0.72\n",
      "F1-Score para la clase 'malignant': 0.88\n"
     ]
    }
   ],
   "source": [
    "# Calcular el F1-score\n",
    "# Convert predictions to binary format by choosing the class with the higher probability\n",
    "predicted_labels_binary = np.argmax(predictions, axis=1)\n",
    "\n",
    "# Now calculate the F1-score\n",
    "f1_weighted = f1_score(labels.numpy(), predicted_labels_binary, average='weighted')\n",
    "\n",
    "# F1-score para cada clase\n",
    "f1_per_class = f1_score(labels.numpy(), predicted_labels_binary, average=None)\n",
    "\n",
    "print(\"F1-Score (ponderado):\", f1_weighted)\n",
    "\n",
    "class_names = test_ds.class_names  # Si tienes nombres de clases del dataset\n",
    "for i, f1 in enumerate(f1_per_class):\n",
    "    print(f\"F1-Score para la clase '{class_names[i]}': {f1:.2f}\")"
   ]
  },
  {
   "cell_type": "markdown",
   "metadata": {
    "id": "cAJmURVIf9em"
   },
   "source": [
    "#Curva ROC"
   ]
  },
  {
   "cell_type": "code",
   "execution_count": null,
   "metadata": {
    "colab": {
     "base_uri": "https://localhost:8080/",
     "height": 998
    },
    "executionInfo": {
     "elapsed": 41530,
     "status": "ok",
     "timestamp": 1733199459047,
     "user": {
      "displayName": "Clasificador CAMA",
      "userId": "04180014494601000487"
     },
     "user_tz": 360
    },
    "id": "35MrPCYTgBZm",
    "outputId": "0528b730-9fc8-4591-bae2-cc6c88cd3b6a"
   },
   "outputs": [
    {
     "name": "stdout",
     "output_type": "stream",
     "text": [
      "\u001b[1m1/1\u001b[0m \u001b[32m━━━━━━━━━━━━━━━━━━━━\u001b[0m\u001b[37m\u001b[0m \u001b[1m2s\u001b[0m 2s/step\n",
      "\u001b[1m1/1\u001b[0m \u001b[32m━━━━━━━━━━━━━━━━━━━━\u001b[0m\u001b[37m\u001b[0m \u001b[1m1s\u001b[0m 1s/step\n",
      "\u001b[1m1/1\u001b[0m \u001b[32m━━━━━━━━━━━━━━━━━━━━\u001b[0m\u001b[37m\u001b[0m \u001b[1m1s\u001b[0m 1s/step\n",
      "\u001b[1m1/1\u001b[0m \u001b[32m━━━━━━━━━━━━━━━━━━━━\u001b[0m\u001b[37m\u001b[0m \u001b[1m2s\u001b[0m 2s/step\n",
      "\u001b[1m1/1\u001b[0m \u001b[32m━━━━━━━━━━━━━━━━━━━━\u001b[0m\u001b[37m\u001b[0m \u001b[1m2s\u001b[0m 2s/step\n",
      "\u001b[1m1/1\u001b[0m \u001b[32m━━━━━━━━━━━━━━━━━━━━\u001b[0m\u001b[37m\u001b[0m \u001b[1m2s\u001b[0m 2s/step\n",
      "\u001b[1m1/1\u001b[0m \u001b[32m━━━━━━━━━━━━━━━━━━━━\u001b[0m\u001b[37m\u001b[0m \u001b[1m1s\u001b[0m 1s/step\n",
      "\u001b[1m1/1\u001b[0m \u001b[32m━━━━━━━━━━━━━━━━━━━━\u001b[0m\u001b[37m\u001b[0m \u001b[1m1s\u001b[0m 1s/step\n",
      "\u001b[1m1/1\u001b[0m \u001b[32m━━━━━━━━━━━━━━━━━━━━\u001b[0m\u001b[37m\u001b[0m \u001b[1m1s\u001b[0m 1s/step\n",
      "\u001b[1m1/1\u001b[0m \u001b[32m━━━━━━━━━━━━━━━━━━━━\u001b[0m\u001b[37m\u001b[0m \u001b[1m1s\u001b[0m 1s/step\n",
      "\u001b[1m1/1\u001b[0m \u001b[32m━━━━━━━━━━━━━━━━━━━━\u001b[0m\u001b[37m\u001b[0m \u001b[1m1s\u001b[0m 1s/step\n",
      "\u001b[1m1/1\u001b[0m \u001b[32m━━━━━━━━━━━━━━━━━━━━\u001b[0m\u001b[37m\u001b[0m \u001b[1m1s\u001b[0m 1s/step\n",
      "\u001b[1m1/1\u001b[0m \u001b[32m━━━━━━━━━━━━━━━━━━━━\u001b[0m\u001b[37m\u001b[0m \u001b[1m1s\u001b[0m 1s/step\n",
      "\u001b[1m1/1\u001b[0m \u001b[32m━━━━━━━━━━━━━━━━━━━━\u001b[0m\u001b[37m\u001b[0m \u001b[1m1s\u001b[0m 1s/step\n",
      "\u001b[1m1/1\u001b[0m \u001b[32m━━━━━━━━━━━━━━━━━━━━\u001b[0m\u001b[37m\u001b[0m \u001b[1m1s\u001b[0m 1s/step\n",
      "\u001b[1m1/1\u001b[0m \u001b[32m━━━━━━━━━━━━━━━━━━━━\u001b[0m\u001b[37m\u001b[0m \u001b[1m2s\u001b[0m 2s/step\n",
      "\u001b[1m1/1\u001b[0m \u001b[32m━━━━━━━━━━━━━━━━━━━━\u001b[0m\u001b[37m\u001b[0m \u001b[1m2s\u001b[0m 2s/step\n",
      "\u001b[1m1/1\u001b[0m \u001b[32m━━━━━━━━━━━━━━━━━━━━\u001b[0m\u001b[37m\u001b[0m \u001b[1m2s\u001b[0m 2s/step\n",
      "\u001b[1m1/1\u001b[0m \u001b[32m━━━━━━━━━━━━━━━━━━━━\u001b[0m\u001b[37m\u001b[0m \u001b[1m1s\u001b[0m 1s/step\n",
      "\u001b[1m1/1\u001b[0m \u001b[32m━━━━━━━━━━━━━━━━━━━━\u001b[0m\u001b[37m\u001b[0m \u001b[1m1s\u001b[0m 1s/step\n",
      "\u001b[1m1/1\u001b[0m \u001b[32m━━━━━━━━━━━━━━━━━━━━\u001b[0m\u001b[37m\u001b[0m \u001b[1m1s\u001b[0m 1s/step\n",
      "\u001b[1m1/1\u001b[0m \u001b[32m━━━━━━━━━━━━━━━━━━━━\u001b[0m\u001b[37m\u001b[0m \u001b[1m1s\u001b[0m 949ms/step\n",
      "\u001b[1m1/1\u001b[0m \u001b[32m━━━━━━━━━━━━━━━━━━━━\u001b[0m\u001b[37m\u001b[0m \u001b[1m1s\u001b[0m 658ms/step\n",
      "\u001b[1m1/1\u001b[0m \u001b[32m━━━━━━━━━━━━━━━━━━━━\u001b[0m\u001b[37m\u001b[0m \u001b[1m1s\u001b[0m 698ms/step\n",
      "\u001b[1m1/1\u001b[0m \u001b[32m━━━━━━━━━━━━━━━━━━━━\u001b[0m\u001b[37m\u001b[0m \u001b[1m1s\u001b[0m 552ms/step\n"
     ]
    },
    {
     "data": {
      "image/png": "[encoded data removed]",
      "text/plain": [
       "<Figure size 800x600 with 1 Axes>"
      ]
     },
     "metadata": {},
     "output_type": "display_data"
    }
   ],
   "source": [
    "import tensorflow as tf\n",
    "import numpy as np\n",
    "import matplotlib.pyplot as plt\n",
    "from sklearn.metrics import roc_curve, auc\n",
    "\n",
    "# 1. Evaluar el modelo en el conjunto de prueba\n",
    "y_true = []  # Etiquetas verdaderas\n",
    "y_pred = []  # Probabilidades predichas\n",
    "\n",
    "for images, labels in test_ds:\n",
    "    y_true.extend(labels.numpy())  # Convertir tensores a numpy\n",
    "    # Get predictions for the positive class (assuming binary classification)\n",
    "    predictions = carga_modelo_cancer_2.predict(images)\n",
    "    # If your model outputs a single probability for the positive class, use:\n",
    "    # y_pred.extend(predictions)\n",
    "    # If your model outputs probabilities for multiple classes, use:\n",
    "    y_pred.extend(predictions[:, 1])  # Assuming the second column represents the positive class\n",
    "\n",
    "\n",
    "y_true = np.array(y_true)\n",
    "y_pred = np.array(y_pred)\n",
    "\n",
    "# 2. Calcular la curva ROC\n",
    "fpr, tpr, thresholds = roc_curve(y_true, y_pred)\n",
    "roc_auc = auc(fpr, tpr)\n",
    "\n",
    "# 3. Graficar la curva ROC\n",
    "plt.figure(figsize=(8, 6))\n",
    "plt.plot(fpr, tpr, color='darkorange', lw=2, label=f'ROC curve (AUC = {roc_auc:.2f})')\n",
    "plt.plot([0, 1], [0, 1], color='navy', lw=2, linestyle='--')  # Línea diagonal (azar)\n",
    "plt.xlabel('False Positive Rate')\n",
    "plt.ylabel('True Positive Rate')\n",
    "plt.title('Receiver Operating Characteristic (ROC)')\n",
    "plt.legend(loc=\"lower right\")\n",
    "plt.grid(alpha=0.4)\n",
    "plt.show()"
   ]
  },
  {
   "cell_type": "markdown",
   "metadata": {
    "id": "h1yOweShnqRT"
   },
   "source": [
    "# Evaluacion modelo 3"
   ]
  },
  {
   "cell_type": "code",
   "execution_count": null,
   "metadata": {
    "colab": {
     "base_uri": "https://localhost:8080/"
    },
    "executionInfo": {
     "elapsed": 53252,
     "status": "ok",
     "timestamp": 1733199578984,
     "user": {
      "displayName": "Clasificador CAMA",
      "userId": "04180014494601000487"
     },
     "user_tz": 360
    },
    "id": "KpYr1c5Znpl8",
    "outputId": "79b8caa9-2eb2-4d24-b9b6-e14d96f43ea6"
   },
   "outputs": [
    {
     "name": "stdout",
     "output_type": "stream",
     "text": [
      "\u001b[1m25/25\u001b[0m \u001b[32m━━━━━━━━━━━━━━━━━━━━\u001b[0m\u001b[37m\u001b[0m \u001b[1m40s\u001b[0m 2s/step\n"
     ]
    }
   ],
   "source": [
    "import numpy as np\n",
    "from sklearn.metrics import f1_score\n",
    "\n",
    "# Obtener imágenes y etiquetas del conjunto de datos\n",
    "images, labels = [], []\n",
    "for img_batch, label_batch in test_ds:\n",
    "    images.append(img_batch)\n",
    "    labels.append(label_batch)\n",
    "\n",
    "# Convertir a tensores\n",
    "images = tf.concat(images, axis=0)\n",
    "labels = tf.concat(labels, axis=0)\n",
    "\n",
    "# Predecir con el modelo\n",
    "predictions = carga_modelo_cancer_3.predict(images)\n",
    "predicted_labels = (predictions > 0.5).astype(int)  # Convertir probabilidades a etiquetas binarias"
   ]
  },
  {
   "cell_type": "code",
   "execution_count": null,
   "metadata": {
    "colab": {
     "base_uri": "https://localhost:8080/"
    },
    "executionInfo": {
     "elapsed": 148,
     "status": "ok",
     "timestamp": 1733199586352,
     "user": {
      "displayName": "Clasificador CAMA",
      "userId": "04180014494601000487"
     },
     "user_tz": 360
    },
    "id": "hz4rsGuin65a",
    "outputId": "35e4aafd-c5f6-4d5c-ac46-88b57bd7e1d1"
   },
   "outputs": [
    {
     "name": "stdout",
     "output_type": "stream",
     "text": [
      "F1-Score (ponderado): 0.822925898235735\n",
      "F1-Score para la clase 'benign': 0.71\n",
      "F1-Score para la clase 'malignant': 0.88\n"
     ]
    }
   ],
   "source": [
    "# Calcular el F1-score\n",
    "# Convert predictions to binary format by choosing the class with the higher probability\n",
    "predicted_labels_binary = np.argmax(predictions, axis=1)\n",
    "\n",
    "# Now calculate the F1-score\n",
    "f1_weighted = f1_score(labels.numpy(), predicted_labels_binary, average='weighted')\n",
    "\n",
    "# F1-score para cada clase\n",
    "f1_per_class = f1_score(labels.numpy(), predicted_labels_binary, average=None)\n",
    "\n",
    "print(\"F1-Score (ponderado):\", f1_weighted)\n",
    "\n",
    "class_names = test_ds.class_names  # Si tienes nombres de clases del dataset\n",
    "for i, f1 in enumerate(f1_per_class):\n",
    "    print(f\"F1-Score para la clase '{class_names[i]}': {f1:.2f}\")"
   ]
  },
  {
   "cell_type": "markdown",
   "metadata": {
    "id": "7Z_iczHnoBX_"
   },
   "source": [
    "#Curva ROC"
   ]
  },
  {
   "cell_type": "code",
   "execution_count": null,
   "metadata": {
    "colab": {
     "base_uri": "https://localhost:8080/",
     "height": 998
    },
    "executionInfo": {
     "elapsed": 82301,
     "status": "ok",
     "timestamp": 1733199679540,
     "user": {
      "displayName": "Clasificador CAMA",
      "userId": "04180014494601000487"
     },
     "user_tz": 360
    },
    "id": "dQwzl8xNoDYH",
    "outputId": "3f8d4a1c-a9d2-4e4b-f50e-64811f30ad72"
   },
   "outputs": [
    {
     "name": "stdout",
     "output_type": "stream",
     "text": [
      "\u001b[1m1/1\u001b[0m \u001b[32m━━━━━━━━━━━━━━━━━━━━\u001b[0m\u001b[37m\u001b[0m \u001b[1m3s\u001b[0m 3s/step\n",
      "\u001b[1m1/1\u001b[0m \u001b[32m━━━━━━━━━━━━━━━━━━━━\u001b[0m\u001b[37m\u001b[0m \u001b[1m2s\u001b[0m 2s/step\n",
      "\u001b[1m1/1\u001b[0m \u001b[32m━━━━━━━━━━━━━━━━━━━━\u001b[0m\u001b[37m\u001b[0m \u001b[1m2s\u001b[0m 2s/step\n",
      "\u001b[1m1/1\u001b[0m \u001b[32m━━━━━━━━━━━━━━━━━━━━\u001b[0m\u001b[37m\u001b[0m \u001b[1m2s\u001b[0m 2s/step\n",
      "\u001b[1m1/1\u001b[0m \u001b[32m━━━━━━━━━━━━━━━━━━━━\u001b[0m\u001b[37m\u001b[0m \u001b[1m2s\u001b[0m 2s/step\n",
      "\u001b[1m1/1\u001b[0m \u001b[32m━━━━━━━━━━━━━━━━━━━━\u001b[0m\u001b[37m\u001b[0m \u001b[1m3s\u001b[0m 3s/step\n",
      "\u001b[1m1/1\u001b[0m \u001b[32m━━━━━━━━━━━━━━━━━━━━\u001b[0m\u001b[37m\u001b[0m \u001b[1m3s\u001b[0m 3s/step\n",
      "\u001b[1m1/1\u001b[0m \u001b[32m━━━━━━━━━━━━━━━━━━━━\u001b[0m\u001b[37m\u001b[0m \u001b[1m2s\u001b[0m 2s/step\n",
      "\u001b[1m1/1\u001b[0m \u001b[32m━━━━━━━━━━━━━━━━━━━━\u001b[0m\u001b[37m\u001b[0m \u001b[1m2s\u001b[0m 2s/step\n",
      "\u001b[1m1/1\u001b[0m \u001b[32m━━━━━━━━━━━━━━━━━━━━\u001b[0m\u001b[37m\u001b[0m \u001b[1m2s\u001b[0m 2s/step\n",
      "\u001b[1m1/1\u001b[0m \u001b[32m━━━━━━━━━━━━━━━━━━━━\u001b[0m\u001b[37m\u001b[0m \u001b[1m2s\u001b[0m 2s/step\n",
      "\u001b[1m1/1\u001b[0m \u001b[32m━━━━━━━━━━━━━━━━━━━━\u001b[0m\u001b[37m\u001b[0m \u001b[1m2s\u001b[0m 2s/step\n",
      "\u001b[1m1/1\u001b[0m \u001b[32m━━━━━━━━━━━━━━━━━━━━\u001b[0m\u001b[37m\u001b[0m \u001b[1m2s\u001b[0m 2s/step\n",
      "\u001b[1m1/1\u001b[0m \u001b[32m━━━━━━━━━━━━━━━━━━━━\u001b[0m\u001b[37m\u001b[0m \u001b[1m3s\u001b[0m 3s/step\n",
      "\u001b[1m1/1\u001b[0m \u001b[32m━━━━━━━━━━━━━━━━━━━━\u001b[0m\u001b[37m\u001b[0m \u001b[1m3s\u001b[0m 3s/step\n",
      "\u001b[1m1/1\u001b[0m \u001b[32m━━━━━━━━━━━━━━━━━━━━\u001b[0m\u001b[37m\u001b[0m \u001b[1m2s\u001b[0m 2s/step\n",
      "\u001b[1m1/1\u001b[0m \u001b[32m━━━━━━━━━━━━━━━━━━━━\u001b[0m\u001b[37m\u001b[0m \u001b[1m2s\u001b[0m 2s/step\n",
      "\u001b[1m1/1\u001b[0m \u001b[32m━━━━━━━━━━━━━━━━━━━━\u001b[0m\u001b[37m\u001b[0m \u001b[1m2s\u001b[0m 2s/step\n",
      "\u001b[1m1/1\u001b[0m \u001b[32m━━━━━━━━━━━━━━━━━━━━\u001b[0m\u001b[37m\u001b[0m \u001b[1m2s\u001b[0m 2s/step\n",
      "\u001b[1m1/1\u001b[0m \u001b[32m━━━━━━━━━━━━━━━━━━━━\u001b[0m\u001b[37m\u001b[0m \u001b[1m2s\u001b[0m 2s/step\n",
      "\u001b[1m1/1\u001b[0m \u001b[32m━━━━━━━━━━━━━━━━━━━━\u001b[0m\u001b[37m\u001b[0m \u001b[1m3s\u001b[0m 3s/step\n",
      "\u001b[1m1/1\u001b[0m \u001b[32m━━━━━━━━━━━━━━━━━━━━\u001b[0m\u001b[37m\u001b[0m \u001b[1m3s\u001b[0m 3s/step\n",
      "\u001b[1m1/1\u001b[0m \u001b[32m━━━━━━━━━━━━━━━━━━━━\u001b[0m\u001b[37m\u001b[0m \u001b[1m2s\u001b[0m 2s/step\n",
      "\u001b[1m1/1\u001b[0m \u001b[32m━━━━━━━━━━━━━━━━━━━━\u001b[0m\u001b[37m\u001b[0m \u001b[1m1s\u001b[0m 1s/step\n",
      "\u001b[1m1/1\u001b[0m \u001b[32m━━━━━━━━━━━━━━━━━━━━\u001b[0m\u001b[37m\u001b[0m \u001b[1m1s\u001b[0m 1s/step\n"
     ]
    },
    {
     "data": {
      "image/png": "[encoded data removed]",
      "text/plain": [
       "<Figure size 800x600 with 1 Axes>"
      ]
     },
     "metadata": {},
     "output_type": "display_data"
    }
   ],
   "source": [
    "import tensorflow as tf\n",
    "import numpy as np\n",
    "import matplotlib.pyplot as plt\n",
    "from sklearn.metrics import roc_curve, auc\n",
    "\n",
    "# 1. Evaluar el modelo en el conjunto de prueba\n",
    "y_true = []  # Etiquetas verdaderas\n",
    "y_pred = []  # Probabilidades predichas\n",
    "\n",
    "for images, labels in test_ds:\n",
    "    y_true.extend(labels.numpy())  # Convertir tensores a numpy\n",
    "    # Get predictions for the positive class (assuming binary classification)\n",
    "    predictions = carga_modelo_cancer_3.predict(images)\n",
    "    # If your model outputs a single probability for the positive class, use:\n",
    "    # y_pred.extend(predictions)\n",
    "    # If your model outputs probabilities for multiple classes, use:\n",
    "    y_pred.extend(predictions[:, 1])  # Assuming the second column represents the positive class\n",
    "\n",
    "\n",
    "y_true = np.array(y_true)\n",
    "y_pred = np.array(y_pred)\n",
    "\n",
    "# 2. Calcular la curva ROC\n",
    "fpr, tpr, thresholds = roc_curve(y_true, y_pred)\n",
    "roc_auc = auc(fpr, tpr)\n",
    "\n",
    "# 3. Graficar la curva ROC\n",
    "plt.figure(figsize=(8, 6))\n",
    "plt.plot(fpr, tpr, color='darkorange', lw=2, label=f'ROC curve (AUC = {roc_auc:.2f})')\n",
    "plt.plot([0, 1], [0, 1], color='navy', lw=2, linestyle='--')  # Línea diagonal (azar)\n",
    "plt.xlabel('False Positive Rate')\n",
    "plt.ylabel('True Positive Rate')\n",
    "plt.title('Receiver Operating Characteristic (ROC)')\n",
    "plt.legend(loc=\"lower right\")\n",
    "plt.grid(alpha=0.4)\n",
    "plt.show()"
   ]
  },
  {
   "cell_type": "markdown",
   "metadata": {
    "id": "GXk-dT4QiEQW"
   },
   "source": [
    "# Pruebas modelo miau"
   ]
  },
  {
   "cell_type": "code",
   "execution_count": null,
   "metadata": {
    "colab": {
     "base_uri": "https://localhost:8080/"
    },
    "executionInfo": {
     "elapsed": 54170,
     "status": "ok",
     "timestamp": 1733199776346,
     "user": {
      "displayName": "Clasificador CAMA",
      "userId": "04180014494601000487"
     },
     "user_tz": 360
    },
    "id": "Qzoszmpcib3t",
    "outputId": "6f8f9721-6f04-40fb-fb9b-804d8b4ff34e"
   },
   "outputs": [
    {
     "name": "stdout",
     "output_type": "stream",
     "text": [
      "\u001b[1m25/25\u001b[0m \u001b[32m━━━━━━━━━━━━━━━━━━━━\u001b[0m\u001b[37m\u001b[0m \u001b[1m29s\u001b[0m 1s/step\n"
     ]
    }
   ],
   "source": [
    "import numpy as np\n",
    "from sklearn.metrics import f1_score\n",
    "\n",
    "# Obtener imágenes y etiquetas del conjunto de datos\n",
    "images, labels = [], []\n",
    "for img_batch, label_batch in test_ds:\n",
    "    images.append(img_batch)\n",
    "    labels.append(label_batch)\n",
    "\n",
    "# Convertir a tensores\n",
    "images = tf.concat(images, axis=0)\n",
    "labels = tf.concat(labels, axis=0)\n",
    "\n",
    "# Predecir con el modelo\n",
    "predictions = carga_modelo_m.predict(images)\n",
    "predicted_labels = (predictions > 0.5).astype(int)  # Convertir probabilidades a etiquetas binarias"
   ]
  },
  {
   "cell_type": "code",
   "execution_count": null,
   "metadata": {
    "colab": {
     "base_uri": "https://localhost:8080/"
    },
    "executionInfo": {
     "elapsed": 150,
     "status": "ok",
     "timestamp": 1733199873708,
     "user": {
      "displayName": "Clasificador CAMA",
      "userId": "04180014494601000487"
     },
     "user_tz": 360
    },
    "id": "8eVpD_bjiq_j",
    "outputId": "c5336850-e41a-4413-890b-8bfb85c5ec2c"
   },
   "outputs": [
    {
     "name": "stdout",
     "output_type": "stream",
     "text": [
      "F1-Score: 0.8422818791946308\n"
     ]
    }
   ],
   "source": [
    "# Calcular el F1-score\n",
    "# Convert predicted_labels to binary format by taking the argmax along axis 1\n",
    "predicted_labels_binary = predicted_labels\n",
    "\n",
    "# Now calculate the F1-score\n",
    "f1 = f1_score(labels.numpy(), predicted_labels_binary)\n",
    "print(\"F1-Score:\", f1)"
   ]
  },
  {
   "cell_type": "code",
   "execution_count": null,
   "metadata": {
    "colab": {
     "base_uri": "https://localhost:8080/"
    },
    "executionInfo": {
     "elapsed": 428,
     "status": "ok",
     "timestamp": 1733199876540,
     "user": {
      "displayName": "Clasificador CAMA",
      "userId": "04180014494601000487"
     },
     "user_tz": 360
    },
    "id": "RnczBSsUkVR4",
    "outputId": "de622235-6b19-4cac-f81d-b1e00b976a3e"
   },
   "outputs": [
    {
     "name": "stdout",
     "output_type": "stream",
     "text": [
      "F1-Score (ponderado): 0.7449880273852484\n",
      "F1-Score por clase: [0.53       0.84228188]\n",
      "F1-Score para la clase 'benign': 0.53\n",
      "F1-Score para la clase 'malignant': 0.84\n"
     ]
    }
   ],
   "source": [
    "# Calcular el F1-score\n",
    "# Convert predictions to binary format by choosing the class with the higher probability\n",
    "predicted_labels_binary = (predictions > 0.5).astype(int)  # Convert to binary (0 or 1)\n",
    "\n",
    "# Now calculate the F1-score\n",
    "f1_weighted = f1_score(labels.numpy(), predicted_labels_binary, average='weighted')\n",
    "\n",
    "# F1-score para cada clase\n",
    "f1_per_class = f1_score(labels.numpy(), predicted_labels_binary, average=None)\n",
    "\n",
    "print(\"F1-Score (ponderado):\", f1_weighted)\n",
    "#Escribimos el f1 por clase:\n",
    "print(\"F1-Score por clase:\", f1_per_class)\n",
    "\n",
    "class_names = test_ds.class_names  # Si tienes nombres de clases del dataset\n",
    "for i, f1 in enumerate(f1_per_class):\n",
    "    print(f\"F1-Score para la clase '{class_names[i]}': {f1:.2f}\")"
   ]
  },
  {
   "cell_type": "markdown",
   "metadata": {
    "id": "8q1g11_3mFVC"
   },
   "source": [
    "#Curva roc"
   ]
  },
  {
   "cell_type": "code",
   "execution_count": null,
   "metadata": {
    "colab": {
     "base_uri": "https://localhost:8080/",
     "height": 998
    },
    "executionInfo": {
     "elapsed": 82357,
     "status": "ok",
     "timestamp": 1733199965355,
     "user": {
      "displayName": "Clasificador CAMA",
      "userId": "04180014494601000487"
     },
     "user_tz": 360
    },
    "id": "fsVxeHhCmEw4",
    "outputId": "64b71310-174d-40d6-c934-7b7fa4222169"
   },
   "outputs": [
    {
     "name": "stdout",
     "output_type": "stream",
     "text": [
      "\u001b[1m1/1\u001b[0m \u001b[32m━━━━━━━━━━━━━━━━━━━━\u001b[0m\u001b[37m\u001b[0m \u001b[1m2s\u001b[0m 2s/step\n",
      "\u001b[1m1/1\u001b[0m \u001b[32m━━━━━━━━━━━━━━━━━━━━\u001b[0m\u001b[37m\u001b[0m \u001b[1m1s\u001b[0m 1s/step\n",
      "\u001b[1m1/1\u001b[0m \u001b[32m━━━━━━━━━━━━━━━━━━━━\u001b[0m\u001b[37m\u001b[0m \u001b[1m1s\u001b[0m 1s/step\n",
      "\u001b[1m1/1\u001b[0m \u001b[32m━━━━━━━━━━━━━━━━━━━━\u001b[0m\u001b[37m\u001b[0m \u001b[1m2s\u001b[0m 2s/step\n",
      "\u001b[1m1/1\u001b[0m \u001b[32m━━━━━━━━━━━━━━━━━━━━\u001b[0m\u001b[37m\u001b[0m \u001b[1m2s\u001b[0m 2s/step\n",
      "\u001b[1m1/1\u001b[0m \u001b[32m━━━━━━━━━━━━━━━━━━━━\u001b[0m\u001b[37m\u001b[0m \u001b[1m2s\u001b[0m 2s/step\n",
      "\u001b[1m1/1\u001b[0m \u001b[32m━━━━━━━━━━━━━━━━━━━━\u001b[0m\u001b[37m\u001b[0m \u001b[1m1s\u001b[0m 1s/step\n",
      "\u001b[1m1/1\u001b[0m \u001b[32m━━━━━━━━━━━━━━━━━━━━\u001b[0m\u001b[37m\u001b[0m \u001b[1m1s\u001b[0m 1s/step\n",
      "\u001b[1m1/1\u001b[0m \u001b[32m━━━━━━━━━━━━━━━━━━━━\u001b[0m\u001b[37m\u001b[0m \u001b[1m1s\u001b[0m 1s/step\n",
      "\u001b[1m1/1\u001b[0m \u001b[32m━━━━━━━━━━━━━━━━━━━━\u001b[0m\u001b[37m\u001b[0m \u001b[1m1s\u001b[0m 1s/step\n",
      "\u001b[1m1/1\u001b[0m \u001b[32m━━━━━━━━━━━━━━━━━━━━\u001b[0m\u001b[37m\u001b[0m \u001b[1m1s\u001b[0m 1s/step\n",
      "\u001b[1m1/1\u001b[0m \u001b[32m━━━━━━━━━━━━━━━━━━━━\u001b[0m\u001b[37m\u001b[0m \u001b[1m1s\u001b[0m 1s/step\n",
      "\u001b[1m1/1\u001b[0m \u001b[32m━━━━━━━━━━━━━━━━━━━━\u001b[0m\u001b[37m\u001b[0m \u001b[1m1s\u001b[0m 1s/step\n",
      "\u001b[1m1/1\u001b[0m \u001b[32m━━━━━━━━━━━━━━━━━━━━\u001b[0m\u001b[37m\u001b[0m \u001b[1m2s\u001b[0m 2s/step\n",
      "\u001b[1m1/1\u001b[0m \u001b[32m━━━━━━━━━━━━━━━━━━━━\u001b[0m\u001b[37m\u001b[0m \u001b[1m2s\u001b[0m 2s/step\n",
      "\u001b[1m1/1\u001b[0m \u001b[32m━━━━━━━━━━━━━━━━━━━━\u001b[0m\u001b[37m\u001b[0m \u001b[1m2s\u001b[0m 2s/step\n",
      "\u001b[1m1/1\u001b[0m \u001b[32m━━━━━━━━━━━━━━━━━━━━\u001b[0m\u001b[37m\u001b[0m \u001b[1m1s\u001b[0m 1s/step\n",
      "\u001b[1m1/1\u001b[0m \u001b[32m━━━━━━━━━━━━━━━━━━━━\u001b[0m\u001b[37m\u001b[0m \u001b[1m1s\u001b[0m 1s/step\n",
      "\u001b[1m1/1\u001b[0m \u001b[32m━━━━━━━━━━━━━━━━━━━━\u001b[0m\u001b[37m\u001b[0m \u001b[1m1s\u001b[0m 1s/step\n",
      "\u001b[1m1/1\u001b[0m \u001b[32m━━━━━━━━━━━━━━━━━━━━\u001b[0m\u001b[37m\u001b[0m \u001b[1m1s\u001b[0m 1s/step\n",
      "\u001b[1m1/1\u001b[0m \u001b[32m━━━━━━━━━━━━━━━━━━━━\u001b[0m\u001b[37m\u001b[0m \u001b[1m1s\u001b[0m 1s/step\n",
      "\u001b[1m1/1\u001b[0m \u001b[32m━━━━━━━━━━━━━━━━━━━━\u001b[0m\u001b[37m\u001b[0m \u001b[1m1s\u001b[0m 1s/step\n",
      "\u001b[1m1/1\u001b[0m \u001b[32m━━━━━━━━━━━━━━━━━━━━\u001b[0m\u001b[37m\u001b[0m \u001b[1m1s\u001b[0m 944ms/step\n",
      "\u001b[1m1/1\u001b[0m \u001b[32m━━━━━━━━━━━━━━━━━━━━\u001b[0m\u001b[37m\u001b[0m \u001b[1m1s\u001b[0m 1s/step\n",
      "\u001b[1m1/1\u001b[0m \u001b[32m━━━━━━━━━━━━━━━━━━━━\u001b[0m\u001b[37m\u001b[0m \u001b[1m1s\u001b[0m 1s/step\n"
     ]
    },
    {
     "data": {
      "image/png": "[encoded data removed]",
      "text/plain": [
       "<Figure size 800x600 with 1 Axes>"
      ]
     },
     "metadata": {},
     "output_type": "display_data"
    }
   ],
   "source": [
    "import tensorflow as tf\n",
    "import numpy as np\n",
    "import matplotlib.pyplot as plt\n",
    "from sklearn.metrics import roc_curve, auc\n",
    "\n",
    "# 1. Evaluar el modelo en el conjunto de prueba\n",
    "y_true = []  # Etiquetas verdaderas\n",
    "y_pred = []  # Probabilidades predichas\n",
    "\n",
    "for images, labels in test_ds:\n",
    "    y_true.extend(labels.numpy())  # Convertir tensores a numpy\n",
    "    # Get predictions for the positive class (assuming binary classification)\n",
    "    predictions = carga_modelo_m.predict(images)\n",
    "    # If your model outputs a single probability for the positive class, use:\n",
    "    # y_pred.extend(predictions)\n",
    "    # If your model outputs probabilities for multiple classes, use:\n",
    "    y_pred.extend(predictions.flatten())  # Assuming the second column represents the positive class\n",
    "\n",
    "\n",
    "y_true = np.array(y_true)\n",
    "y_pred = np.array(y_pred)\n",
    "\n",
    "# 2. Calcular la curva ROC\n",
    "fpr, tpr, thresholds = roc_curve(y_true, y_pred)\n",
    "roc_auc = auc(fpr, tpr)\n",
    "\n",
    "# 3. Graficar la curva ROC\n",
    "plt.figure(figsize=(8, 6))\n",
    "plt.plot(fpr, tpr, color='darkorange', lw=2, label=f'ROC curve (AUC = {roc_auc:.2f})')\n",
    "plt.plot([0, 1], [0, 1], color='navy', lw=2, linestyle='--')  # Línea diagonal (azar)\n",
    "plt.xlabel('False Positive Rate')\n",
    "plt.ylabel('True Positive Rate')\n",
    "plt.title('Receiver Operating Characteristic (ROC)')\n",
    "plt.legend(loc=\"lower right\")\n",
    "plt.grid(alpha=0.4)\n",
    "plt.show()"
   ]
  },
  {
   "cell_type": "markdown",
   "metadata": {
    "id": "JwJsf5fxhWRu"
   },
   "source": [
    "#Pruebas modelo 2 compilado diferente"
   ]
  },
  {
   "cell_type": "code",
   "execution_count": null,
   "metadata": {
    "colab": {
     "base_uri": "https://localhost:8080/"
    },
    "executionInfo": {
     "elapsed": 37703,
     "status": "ok",
     "timestamp": 1733200949152,
     "user": {
      "displayName": "Clasificador CAMA",
      "userId": "04180014494601000487"
     },
     "user_tz": 360
    },
    "id": "-iqvXj-PhaKS",
    "outputId": "545ce5aa-19fe-4bb2-edfe-cc3151a0cc49"
   },
   "outputs": [
    {
     "name": "stdout",
     "output_type": "stream",
     "text": [
      "\u001b[1m25/25\u001b[0m \u001b[32m━━━━━━━━━━━━━━━━━━━━\u001b[0m\u001b[37m\u001b[0m \u001b[1m19s\u001b[0m 754ms/step\n"
     ]
    }
   ],
   "source": [
    "import numpy as np\n",
    "from sklearn.metrics import f1_score\n",
    "\n",
    "# Obtener imágenes y etiquetas del conjunto de datos\n",
    "images, labels = [], []\n",
    "for img_batch, label_batch in test_ds:\n",
    "    images.append(img_batch)\n",
    "    labels.append(label_batch)\n",
    "\n",
    "# Convertir a tensores\n",
    "images = tf.concat(images, axis=0)\n",
    "labels = tf.concat(labels, axis=0)\n",
    "\n",
    "# Predecir con el modelo\n",
    "predictions = carga_modelo_2_c.predict(images)\n",
    "predicted_labels = (predictions > 0.5).astype(int)  # Convertir probabilidades a etiquetas binarias"
   ]
  },
  {
   "cell_type": "code",
   "execution_count": null,
   "metadata": {
    "colab": {
     "base_uri": "https://localhost:8080/"
    },
    "executionInfo": {
     "elapsed": 21,
     "status": "ok",
     "timestamp": 1733200949164,
     "user": {
      "displayName": "Clasificador CAMA",
      "userId": "04180014494601000487"
     },
     "user_tz": 360
    },
    "id": "fX8jzHuLidcy",
    "outputId": "5520be5a-9845-440b-addd-f8909189cc49"
   },
   "outputs": [
    {
     "name": "stdout",
     "output_type": "stream",
     "text": [
      "F1-Score: 0.8485947416137806\n"
     ]
    }
   ],
   "source": [
    "# Calcular el F1-score\n",
    "# Convert predicted_labels to binary format by taking the argmax along axis 1\n",
    "predicted_labels_binary = predicted_labels\n",
    "\n",
    "# Now calculate the F1-score\n",
    "f1 = f1_score(labels.numpy(), predicted_labels_binary)\n",
    "print(\"F1-Score:\", f1)"
   ]
  },
  {
   "cell_type": "code",
   "execution_count": null,
   "metadata": {
    "colab": {
     "base_uri": "https://localhost:8080/"
    },
    "executionInfo": {
     "elapsed": 164,
     "status": "ok",
     "timestamp": 1733200986765,
     "user": {
      "displayName": "Clasificador CAMA",
      "userId": "04180014494601000487"
     },
     "user_tz": 360
    },
    "id": "MVZJppU-idvL",
    "outputId": "453e045f-f2b2-4855-b8a7-7be0ac44da70"
   },
   "outputs": [
    {
     "name": "stdout",
     "output_type": "stream",
     "text": [
      "F1-Score (ponderado): 0.7893651028653699\n",
      "F1-Score por clase: [0.65848671 0.84859474]\n",
      "F1-Score para la clase 'benign': 0.66\n",
      "F1-Score para la clase 'malignant': 0.85\n"
     ]
    }
   ],
   "source": [
    "# Calcular el F1-score\n",
    "# Convert predictions to binary format by choosing the class with the higher probability\n",
    "predicted_labels_binary = (predictions > 0.5).astype(int)  # Convert to binary (0 or 1)\n",
    "\n",
    "# Now calculate the F1-score\n",
    "f1_weighted = f1_score(labels.numpy(), predicted_labels_binary, average='weighted')\n",
    "\n",
    "# F1-score para cada clase\n",
    "f1_per_class = f1_score(labels.numpy(), predicted_labels_binary, average=None)\n",
    "\n",
    "print(\"F1-Score (ponderado):\", f1_weighted)\n",
    "#Escribimos el f1 por clase:\n",
    "print(\"F1-Score por clase:\", f1_per_class)\n",
    "\n",
    "class_names = test_ds.class_names  # Si tienes nombres de clases del dataset\n",
    "for i, f1 in enumerate(f1_per_class):\n",
    "    print(f\"F1-Score para la clase '{class_names[i]}': {f1:.2f}\")"
   ]
  },
  {
   "cell_type": "markdown",
   "metadata": {
    "id": "-DIoO3neivYx"
   },
   "source": [
    "#Curva ROC"
   ]
  },
  {
   "cell_type": "code",
   "execution_count": null,
   "metadata": {
    "colab": {
     "base_uri": "https://localhost:8080/",
     "height": 998
    },
    "executionInfo": {
     "elapsed": 41401,
     "status": "ok",
     "timestamp": 1733201033816,
     "user": {
      "displayName": "Clasificador CAMA",
      "userId": "04180014494601000487"
     },
     "user_tz": 360
    },
    "id": "IQ6LMNq5ieBl",
    "outputId": "19deec0d-c1df-4bb2-bd8e-8363b5fbd99b"
   },
   "outputs": [
    {
     "name": "stdout",
     "output_type": "stream",
     "text": [
      "\u001b[1m1/1\u001b[0m \u001b[32m━━━━━━━━━━━━━━━━━━━━\u001b[0m\u001b[37m\u001b[0m \u001b[1m2s\u001b[0m 2s/step\n",
      "\u001b[1m1/1\u001b[0m \u001b[32m━━━━━━━━━━━━━━━━━━━━\u001b[0m\u001b[37m\u001b[0m \u001b[1m1s\u001b[0m 1s/step\n",
      "\u001b[1m1/1\u001b[0m \u001b[32m━━━━━━━━━━━━━━━━━━━━\u001b[0m\u001b[37m\u001b[0m \u001b[1m1s\u001b[0m 1s/step\n",
      "\u001b[1m1/1\u001b[0m \u001b[32m━━━━━━━━━━━━━━━━━━━━\u001b[0m\u001b[37m\u001b[0m \u001b[1m1s\u001b[0m 1s/step\n",
      "\u001b[1m1/1\u001b[0m \u001b[32m━━━━━━━━━━━━━━━━━━━━\u001b[0m\u001b[37m\u001b[0m \u001b[1m1s\u001b[0m 1s/step\n",
      "\u001b[1m1/1\u001b[0m \u001b[32m━━━━━━━━━━━━━━━━━━━━\u001b[0m\u001b[37m\u001b[0m \u001b[1m1s\u001b[0m 1s/step\n",
      "\u001b[1m1/1\u001b[0m \u001b[32m━━━━━━━━━━━━━━━━━━━━\u001b[0m\u001b[37m\u001b[0m \u001b[1m1s\u001b[0m 1s/step\n",
      "\u001b[1m1/1\u001b[0m \u001b[32m━━━━━━━━━━━━━━━━━━━━\u001b[0m\u001b[37m\u001b[0m \u001b[1m2s\u001b[0m 2s/step\n",
      "\u001b[1m1/1\u001b[0m \u001b[32m━━━━━━━━━━━━━━━━━━━━\u001b[0m\u001b[37m\u001b[0m \u001b[1m2s\u001b[0m 2s/step\n",
      "\u001b[1m1/1\u001b[0m \u001b[32m━━━━━━━━━━━━━━━━━━━━\u001b[0m\u001b[37m\u001b[0m \u001b[1m2s\u001b[0m 2s/step\n",
      "\u001b[1m1/1\u001b[0m \u001b[32m━━━━━━━━━━━━━━━━━━━━\u001b[0m\u001b[37m\u001b[0m \u001b[1m1s\u001b[0m 1s/step\n",
      "\u001b[1m1/1\u001b[0m \u001b[32m━━━━━━━━━━━━━━━━━━━━\u001b[0m\u001b[37m\u001b[0m \u001b[1m1s\u001b[0m 1s/step\n",
      "\u001b[1m1/1\u001b[0m \u001b[32m━━━━━━━━━━━━━━━━━━━━\u001b[0m\u001b[37m\u001b[0m \u001b[1m1s\u001b[0m 1s/step\n",
      "\u001b[1m1/1\u001b[0m \u001b[32m━━━━━━━━━━━━━━━━━━━━\u001b[0m\u001b[37m\u001b[0m \u001b[1m1s\u001b[0m 1s/step\n",
      "\u001b[1m1/1\u001b[0m \u001b[32m━━━━━━━━━━━━━━━━━━━━\u001b[0m\u001b[37m\u001b[0m \u001b[1m1s\u001b[0m 1s/step\n",
      "\u001b[1m1/1\u001b[0m \u001b[32m━━━━━━━━━━━━━━━━━━━━\u001b[0m\u001b[37m\u001b[0m \u001b[1m1s\u001b[0m 1s/step\n",
      "\u001b[1m1/1\u001b[0m \u001b[32m━━━━━━━━━━━━━━━━━━━━\u001b[0m\u001b[37m\u001b[0m \u001b[1m1s\u001b[0m 1s/step\n",
      "\u001b[1m1/1\u001b[0m \u001b[32m━━━━━━━━━━━━━━━━━━━━\u001b[0m\u001b[37m\u001b[0m \u001b[1m1s\u001b[0m 992ms/step\n",
      "\u001b[1m1/1\u001b[0m \u001b[32m━━━━━━━━━━━━━━━━━━━━\u001b[0m\u001b[37m\u001b[0m \u001b[1m1s\u001b[0m 1s/step\n",
      "\u001b[1m1/1\u001b[0m \u001b[32m━━━━━━━━━━━━━━━━━━━━\u001b[0m\u001b[37m\u001b[0m \u001b[1m2s\u001b[0m 2s/step\n",
      "\u001b[1m1/1\u001b[0m \u001b[32m━━━━━━━━━━━━━━━━━━━━\u001b[0m\u001b[37m\u001b[0m \u001b[1m2s\u001b[0m 2s/step\n",
      "\u001b[1m1/1\u001b[0m \u001b[32m━━━━━━━━━━━━━━━━━━━━\u001b[0m\u001b[37m\u001b[0m \u001b[1m2s\u001b[0m 2s/step\n",
      "\u001b[1m1/1\u001b[0m \u001b[32m━━━━━━━━━━━━━━━━━━━━\u001b[0m\u001b[37m\u001b[0m \u001b[1m1s\u001b[0m 816ms/step\n",
      "\u001b[1m1/1\u001b[0m \u001b[32m━━━━━━━━━━━━━━━━━━━━\u001b[0m\u001b[37m\u001b[0m \u001b[1m1s\u001b[0m 659ms/step\n",
      "\u001b[1m1/1\u001b[0m \u001b[32m━━━━━━━━━━━━━━━━━━━━\u001b[0m\u001b[37m\u001b[0m \u001b[1m1s\u001b[0m 567ms/step\n"
     ]
    },
    {
     "data": {
      "image/png": "[encoded data removed]",
      "text/plain": [
       "<Figure size 800x600 with 1 Axes>"
      ]
     },
     "metadata": {},
     "output_type": "display_data"
    }
   ],
   "source": [
    "import tensorflow as tf\n",
    "import numpy as np\n",
    "import matplotlib.pyplot as plt\n",
    "from sklearn.metrics import roc_curve, auc\n",
    "\n",
    "# 1. Evaluar el modelo en el conjunto de prueba\n",
    "y_true = []  # Etiquetas verdaderas\n",
    "y_pred = []  # Probabilidades predichas\n",
    "\n",
    "for images, labels in test_ds:\n",
    "    y_true.extend(labels.numpy())  # Convertir tensores a numpy\n",
    "    # Get predictions for the positive class (assuming binary classification)\n",
    "    predictions = carga_modelo_2_c.predict(images)\n",
    "    # If your model outputs a single probability for the positive class, use:\n",
    "    # y_pred.extend(predictions)\n",
    "    # If your model outputs probabilities for multiple classes, use:\n",
    "    y_pred.extend(predictions.flatten())  # Assuming the second column represents the positive class\n",
    "\n",
    "\n",
    "y_true = np.array(y_true)\n",
    "y_pred = np.array(y_pred)\n",
    "\n",
    "# 2. Calcular la curva ROC\n",
    "fpr, tpr, thresholds = roc_curve(y_true, y_pred)\n",
    "roc_auc = auc(fpr, tpr)\n",
    "\n",
    "# 3. Graficar la curva ROC\n",
    "plt.figure(figsize=(8, 6))\n",
    "plt.plot(fpr, tpr, color='darkorange', lw=2, label=f'ROC curve (AUC = {roc_auc:.2f})')\n",
    "plt.plot([0, 1], [0, 1], color='navy', lw=2, linestyle='--')  # Línea diagonal (azar)\n",
    "plt.xlabel('False Positive Rate')\n",
    "plt.ylabel('True Positive Rate')\n",
    "plt.title('Receiver Operating Characteristic (ROC)')\n",
    "plt.legend(loc=\"lower right\")\n",
    "plt.grid(alpha=0.4)\n",
    "plt.show()"
   ]
  },
  {
   "cell_type": "markdown",
   "metadata": {
    "id": "9cy7ZwfXHLvM"
   },
   "source": [
    "#Pruebas modelo final"
   ]
  },
  {
   "cell_type": "code",
   "execution_count": 7,
   "metadata": {
    "colab": {
     "base_uri": "https://localhost:8080/"
    },
    "executionInfo": {
     "elapsed": 72890,
     "status": "ok",
     "timestamp": 1733273418715,
     "user": {
      "displayName": "Clasificador CAMA",
      "userId": "04180014494601000487"
     },
     "user_tz": 360
    },
    "id": "b2Ae85W1HQeM",
    "outputId": "bbc335f1-3dd2-41a8-a507-6afc86ea2d04"
   },
   "outputs": [
    {
     "name": "stdout",
     "output_type": "stream",
     "text": [
      "\u001b[1m25/25\u001b[0m \u001b[32m━━━━━━━━━━━━━━━━━━━━\u001b[0m\u001b[37m\u001b[0m \u001b[1m34s\u001b[0m 1s/step\n"
     ]
    }
   ],
   "source": [
    "import numpy as np\n",
    "from sklearn.metrics import f1_score\n",
    "\n",
    "# Obtener imágenes y etiquetas del conjunto de datos\n",
    "images, labels = [], []\n",
    "for img_batch, label_batch in test_ds:\n",
    "    images.append(img_batch)\n",
    "    labels.append(label_batch)\n",
    "\n",
    "# Convertir a tensores\n",
    "images = tf.concat(images, axis=0)\n",
    "labels = tf.concat(labels, axis=0)\n",
    "\n",
    "# Predecir con el modelo\n",
    "predictions = carga_modelo_fina.predict(images)\n",
    "predicted_labels = (predictions > 0.5).astype(int)  # Convertir probabilidades a etiquetas binarias"
   ]
  },
  {
   "cell_type": "code",
   "execution_count": 88,
   "metadata": {
    "colab": {
     "base_uri": "https://localhost:8080/"
    },
    "executionInfo": {
     "elapsed": 219,
     "status": "ok",
     "timestamp": 1733218995151,
     "user": {
      "displayName": "Clasificador CAMA",
      "userId": "04180014494601000487"
     },
     "user_tz": 360
    },
    "id": "UphpvoLRHXTJ",
    "outputId": "1fa2a252-e725-4474-d7bc-5f0cd5d7ffd6"
   },
   "outputs": [
    {
     "name": "stdout",
     "output_type": "stream",
     "text": [
      "F1-Score: 0.8646748681898067\n"
     ]
    }
   ],
   "source": [
    "# Calcular el F1-score\n",
    "# Convert predicted_labels to binary format by taking the argmax along axis 1\n",
    "predicted_labels_binary = predicted_labels\n",
    "\n",
    "# Now calculate the F1-score\n",
    "f1 = f1_score(labels.numpy(), predicted_labels_binary)\n",
    "print(\"F1-Score:\", f1)"
   ]
  },
  {
   "cell_type": "code",
   "execution_count": 89,
   "metadata": {
    "colab": {
     "base_uri": "https://localhost:8080/"
    },
    "executionInfo": {
     "elapsed": 192,
     "status": "ok",
     "timestamp": 1733218999630,
     "user": {
      "displayName": "Clasificador CAMA",
      "userId": "04180014494601000487"
     },
     "user_tz": 360
    },
    "id": "5yCDx7FeHjd4",
    "outputId": "5507a5aa-960d-4b59-fea0-04ece4725b5d"
   },
   "outputs": [
    {
     "name": "stdout",
     "output_type": "stream",
     "text": [
      "F1-Score (ponderado): 0.801153869033157\n",
      "F1-Score por clase: [0.66079295 0.86467487]\n",
      "F1-Score para la clase 'benign': 0.66\n",
      "F1-Score para la clase 'malignant': 0.86\n"
     ]
    }
   ],
   "source": [
    "# Calcular el F1-score\n",
    "# Convert predictions to binary format by choosing the class with the higher probability\n",
    "predicted_labels_binary = (predictions > 0.5).astype(int)  # Convert to binary (0 or 1)\n",
    "\n",
    "# Now calculate the F1-score\n",
    "f1_weighted = f1_score(labels.numpy(), predicted_labels_binary, average='weighted')\n",
    "\n",
    "# F1-score para cada clase\n",
    "f1_per_class = f1_score(labels.numpy(), predicted_labels_binary, average=None)\n",
    "\n",
    "print(\"F1-Score (ponderado):\", f1_weighted)\n",
    "#Escribimos el f1 por clase:\n",
    "print(\"F1-Score por clase:\", f1_per_class)\n",
    "\n",
    "class_names = test_ds.class_names  # Si tienes nombres de clases del dataset\n",
    "for i, f1 in enumerate(f1_per_class):\n",
    "    print(f\"F1-Score para la clase '{class_names[i]}': {f1:.2f}\")"
   ]
  },
  {
   "cell_type": "markdown",
   "metadata": {
    "id": "n-6M-1nnHuof"
   },
   "source": [
    "#Curva ROC"
   ]
  },
  {
   "cell_type": "code",
   "execution_count": 14,
   "metadata": {
    "colab": {
     "base_uri": "https://localhost:8080/",
     "height": 998
    },
    "executionInfo": {
     "elapsed": 41518,
     "status": "ok",
     "timestamp": 1733275545640,
     "user": {
      "displayName": "Clasificador CAMA",
      "userId": "04180014494601000487"
     },
     "user_tz": 360
    },
    "id": "7Rn5dzC-HxKd",
    "outputId": "31574f96-2d96-4d35-be61-dccd3dba1211"
   },
   "outputs": [
    {
     "name": "stdout",
     "output_type": "stream",
     "text": [
      "\u001b[1m1/1\u001b[0m \u001b[32m━━━━━━━━━━━━━━━━━━━━\u001b[0m\u001b[37m\u001b[0m \u001b[1m2s\u001b[0m 2s/step\n",
      "\u001b[1m1/1\u001b[0m \u001b[32m━━━━━━━━━━━━━━━━━━━━\u001b[0m\u001b[37m\u001b[0m \u001b[1m1s\u001b[0m 1s/step\n",
      "\u001b[1m1/1\u001b[0m \u001b[32m━━━━━━━━━━━━━━━━━━━━\u001b[0m\u001b[37m\u001b[0m \u001b[1m1s\u001b[0m 1s/step\n",
      "\u001b[1m1/1\u001b[0m \u001b[32m━━━━━━━━━━━━━━━━━━━━\u001b[0m\u001b[37m\u001b[0m \u001b[1m1s\u001b[0m 1s/step\n",
      "\u001b[1m1/1\u001b[0m \u001b[32m━━━━━━━━━━━━━━━━━━━━\u001b[0m\u001b[37m\u001b[0m \u001b[1m1s\u001b[0m 1s/step\n",
      "\u001b[1m1/1\u001b[0m \u001b[32m━━━━━━━━━━━━━━━━━━━━\u001b[0m\u001b[37m\u001b[0m \u001b[1m1s\u001b[0m 1s/step\n",
      "\u001b[1m1/1\u001b[0m \u001b[32m━━━━━━━━━━━━━━━━━━━━\u001b[0m\u001b[37m\u001b[0m \u001b[1m1s\u001b[0m 1s/step\n",
      "\u001b[1m1/1\u001b[0m \u001b[32m━━━━━━━━━━━━━━━━━━━━\u001b[0m\u001b[37m\u001b[0m \u001b[1m2s\u001b[0m 2s/step\n",
      "\u001b[1m1/1\u001b[0m \u001b[32m━━━━━━━━━━━━━━━━━━━━\u001b[0m\u001b[37m\u001b[0m \u001b[1m2s\u001b[0m 2s/step\n",
      "\u001b[1m1/1\u001b[0m \u001b[32m━━━━━━━━━━━━━━━━━━━━\u001b[0m\u001b[37m\u001b[0m \u001b[1m2s\u001b[0m 2s/step\n",
      "\u001b[1m1/1\u001b[0m \u001b[32m━━━━━━━━━━━━━━━━━━━━\u001b[0m\u001b[37m\u001b[0m \u001b[1m1s\u001b[0m 1s/step\n",
      "\u001b[1m1/1\u001b[0m \u001b[32m━━━━━━━━━━━━━━━━━━━━\u001b[0m\u001b[37m\u001b[0m \u001b[1m1s\u001b[0m 1s/step\n",
      "\u001b[1m1/1\u001b[0m \u001b[32m━━━━━━━━━━━━━━━━━━━━\u001b[0m\u001b[37m\u001b[0m \u001b[1m1s\u001b[0m 1s/step\n",
      "\u001b[1m1/1\u001b[0m \u001b[32m━━━━━━━━━━━━━━━━━━━━\u001b[0m\u001b[37m\u001b[0m \u001b[1m1s\u001b[0m 1s/step\n",
      "\u001b[1m1/1\u001b[0m \u001b[32m━━━━━━━━━━━━━━━━━━━━\u001b[0m\u001b[37m\u001b[0m \u001b[1m1s\u001b[0m 1s/step\n",
      "\u001b[1m1/1\u001b[0m \u001b[32m━━━━━━━━━━━━━━━━━━━━\u001b[0m\u001b[37m\u001b[0m \u001b[1m1s\u001b[0m 1s/step\n",
      "\u001b[1m1/1\u001b[0m \u001b[32m━━━━━━━━━━━━━━━━━━━━\u001b[0m\u001b[37m\u001b[0m \u001b[1m1s\u001b[0m 1s/step\n",
      "\u001b[1m1/1\u001b[0m \u001b[32m━━━━━━━━━━━━━━━━━━━━\u001b[0m\u001b[37m\u001b[0m \u001b[1m1s\u001b[0m 1s/step\n",
      "\u001b[1m1/1\u001b[0m \u001b[32m━━━━━━━━━━━━━━━━━━━━\u001b[0m\u001b[37m\u001b[0m \u001b[1m2s\u001b[0m 2s/step\n",
      "\u001b[1m1/1\u001b[0m \u001b[32m━━━━━━━━━━━━━━━━━━━━\u001b[0m\u001b[37m\u001b[0m \u001b[1m2s\u001b[0m 2s/step\n",
      "\u001b[1m1/1\u001b[0m \u001b[32m━━━━━━━━━━━━━━━━━━━━\u001b[0m\u001b[37m\u001b[0m \u001b[1m2s\u001b[0m 2s/step\n",
      "\u001b[1m1/1\u001b[0m \u001b[32m━━━━━━━━━━━━━━━━━━━━\u001b[0m\u001b[37m\u001b[0m \u001b[1m1s\u001b[0m 1s/step\n",
      "\u001b[1m1/1\u001b[0m \u001b[32m━━━━━━━━━━━━━━━━━━━━\u001b[0m\u001b[37m\u001b[0m \u001b[1m1s\u001b[0m 732ms/step\n",
      "\u001b[1m1/1\u001b[0m \u001b[32m━━━━━━━━━━━━━━━━━━━━\u001b[0m\u001b[37m\u001b[0m \u001b[1m1s\u001b[0m 713ms/step\n",
      "\u001b[1m1/1\u001b[0m \u001b[32m━━━━━━━━━━━━━━━━━━━━\u001b[0m\u001b[37m\u001b[0m \u001b[1m1s\u001b[0m 635ms/step\n"
     ]
    },
    {
     "data": {
      "image/png": "[encoded data removed]",
      "text/plain": [
       "<Figure size 800x600 with 1 Axes>"
      ]
     },
     "metadata": {},
     "output_type": "display_data"
    }
   ],
   "source": [
    "import tensorflow as tf\n",
    "import numpy as np\n",
    "import matplotlib.pyplot as plt\n",
    "from sklearn.metrics import roc_curve, auc\n",
    "\n",
    "# 1. Evaluar el modelo en el conjunto de prueba\n",
    "y_true = []  # Etiquetas verdaderas\n",
    "y_pred = []  # Probabilidades predichas\n",
    "\n",
    "for images, labels in test_ds:\n",
    "    y_true.extend(labels.numpy())  # Convertir tensores a numpy\n",
    "    # Get predictions for the positive class (assuming binary classification)\n",
    "    predictions = carga_modelo_fina.predict(images)\n",
    "    # If your model outputs a single probability for the positive class, use:\n",
    "    # y_pred.extend(predictions)\n",
    "    # If your model outputs probabilities for multiple classes, use:\n",
    "    y_pred.extend(predictions.flatten())  # Assuming the second column represents the positive class\n",
    "\n",
    "\n",
    "y_true = np.array(y_true)\n",
    "y_pred = np.array(y_pred)\n",
    "\n",
    "# 2. Calcular la curva ROC\n",
    "fpr, tpr, thresholds = roc_curve(y_true, y_pred)\n",
    "roc_auc = auc(fpr, tpr)\n",
    "\n",
    "# 3. Graficar la curva ROC\n",
    "plt.figure(figsize=(8, 6))\n",
    "plt.plot(fpr, tpr, color='darkorange', lw=2, label=f'ROC curve (AUC = {roc_auc:.2f})')\n",
    "plt.plot([0, 1], [0, 1], color='navy', lw=2, linestyle='--')  # Línea diagonal (azar)\n",
    "plt.xlabel('False Positive Rate')\n",
    "plt.ylabel('True Positive Rate')\n",
    "plt.title('Receiver Operating Characteristic (ROC)')\n",
    "plt.legend(loc=\"lower right\")\n",
    "plt.grid(alpha=0.4)\n",
    "plt.show()"
   ]
  },
  {
   "cell_type": "markdown",
   "metadata": {
    "id": "CgGNHYtugvER"
   },
   "source": [
    "#Pruebas modelo con transferencia"
   ]
  },
  {
   "cell_type": "code",
   "execution_count": null,
   "metadata": {
    "colab": {
     "background_save": true,
     "base_uri": "https://localhost:8080/"
    },
    "id": "W6lcrTtDg4-b"
   },
   "outputs": [
    {
     "name": "stdout",
     "output_type": "stream",
     "text": [
      "\u001b[1m25/25\u001b[0m \u001b[32m━━━━━━━━━━━━━━━━━━━━\u001b[0m\u001b[37m\u001b[0m \u001b[1m97s\u001b[0m 4s/step\n"
     ]
    }
   ],
   "source": [
    "import numpy as np\n",
    "from sklearn.metrics import f1_score\n",
    "\n",
    "# Obtener imágenes y etiquetas del conjunto de datos\n",
    "images, labels = [], []\n",
    "for img_batch, label_batch in test_ds:\n",
    "    images.append(img_batch)\n",
    "    labels.append(label_batch)\n",
    "\n",
    "# Convertir a tensores\n",
    "images = tf.concat(images, axis=0)\n",
    "labels = tf.concat(labels, axis=0)\n",
    "\n",
    "# Predecir con el modelo\n",
    "predictions = carga_modelo_trans.predict(images)\n",
    "predicted_labels = (predictions > 0.5).astype(int)  # Convertir probabilidades a etiquetas binarias"
   ]
  },
  {
   "cell_type": "code",
   "execution_count": null,
   "metadata": {
    "colab": {
     "background_save": true
    },
    "id": "6IaKFbTYg-Kr"
   },
   "outputs": [
    {
     "name": "stdout",
     "output_type": "stream",
     "text": [
      "F1-Score (ponderado): 0.8442211055276382\n",
      "F1-Score por clase: [0.75       0.88686131]\n",
      "F1-Score para la clase 'benign': 0.75\n",
      "F1-Score para la clase 'malignant': 0.89\n"
     ]
    }
   ],
   "source": [
    "# Calcular el F1-score\n",
    "# Convert predictions to binary format by choosing the class with the higher probability\n",
    "predicted_labels_binary = (predictions > 0.5).astype(int)  # Convert to binary (0 or 1)\n",
    "\n",
    "# Now calculate the F1-score\n",
    "f1_weighted = f1_score(labels.numpy(), predicted_labels_binary, average='weighted')\n",
    "\n",
    "# F1-score para cada clase\n",
    "f1_per_class = f1_score(labels.numpy(), predicted_labels_binary, average=None)\n",
    "\n",
    "print(\"F1-Score (ponderado):\", f1_weighted)\n",
    "#Escribimos el f1 por clase:\n",
    "print(\"F1-Score por clase:\", f1_per_class)\n",
    "\n",
    "class_names = test_ds.class_names  # Si tienes nombres de clases del dataset\n",
    "for i, f1 in enumerate(f1_per_class):\n",
    "    print(f\"F1-Score para la clase '{class_names[i]}': {f1:.2f}\")"
   ]
  },
  {
   "cell_type": "code",
   "execution_count": 7,
   "metadata": {
    "colab": {
     "base_uri": "https://localhost:8080/",
     "height": 998
    },
    "executionInfo": {
     "elapsed": 123772,
     "status": "ok",
     "timestamp": 1733296480229,
     "user": {
      "displayName": "Clasificador CAMA",
      "userId": "04180014494601000487"
     },
     "user_tz": 360
    },
    "id": "1vT5MLcQgyOv",
    "outputId": "e9880550-b573-4dd9-8ac9-296dbdda57c3"
   },
   "outputs": [
    {
     "name": "stdout",
     "output_type": "stream",
     "text": [
      "\u001b[1m1/1\u001b[0m \u001b[32m━━━━━━━━━━━━━━━━━━━━\u001b[0m\u001b[37m\u001b[0m \u001b[1m7s\u001b[0m 7s/step\n",
      "\u001b[1m1/1\u001b[0m \u001b[32m━━━━━━━━━━━━━━━━━━━━\u001b[0m\u001b[37m\u001b[0m \u001b[1m4s\u001b[0m 4s/step\n",
      "\u001b[1m1/1\u001b[0m \u001b[32m━━━━━━━━━━━━━━━━━━━━\u001b[0m\u001b[37m\u001b[0m \u001b[1m4s\u001b[0m 4s/step\n",
      "\u001b[1m1/1\u001b[0m \u001b[32m━━━━━━━━━━━━━━━━━━━━\u001b[0m\u001b[37m\u001b[0m \u001b[1m6s\u001b[0m 6s/step\n",
      "\u001b[1m1/1\u001b[0m \u001b[32m━━━━━━━━━━━━━━━━━━━━\u001b[0m\u001b[37m\u001b[0m \u001b[1m4s\u001b[0m 4s/step\n",
      "\u001b[1m1/1\u001b[0m \u001b[32m━━━━━━━━━━━━━━━━━━━━\u001b[0m\u001b[37m\u001b[0m \u001b[1m4s\u001b[0m 4s/step\n",
      "\u001b[1m1/1\u001b[0m \u001b[32m━━━━━━━━━━━━━━━━━━━━\u001b[0m\u001b[37m\u001b[0m \u001b[1m5s\u001b[0m 5s/step\n",
      "\u001b[1m1/1\u001b[0m \u001b[32m━━━━━━━━━━━━━━━━━━━━\u001b[0m\u001b[37m\u001b[0m \u001b[1m4s\u001b[0m 4s/step\n",
      "\u001b[1m1/1\u001b[0m \u001b[32m━━━━━━━━━━━━━━━━━━━━\u001b[0m\u001b[37m\u001b[0m \u001b[1m8s\u001b[0m 8s/step\n",
      "\u001b[1m1/1\u001b[0m \u001b[32m━━━━━━━━━━━━━━━━━━━━\u001b[0m\u001b[37m\u001b[0m \u001b[1m6s\u001b[0m 6s/step\n",
      "\u001b[1m1/1\u001b[0m \u001b[32m━━━━━━━━━━━━━━━━━━━━\u001b[0m\u001b[37m\u001b[0m \u001b[1m4s\u001b[0m 4s/step\n",
      "\u001b[1m1/1\u001b[0m \u001b[32m━━━━━━━━━━━━━━━━━━━━\u001b[0m\u001b[37m\u001b[0m \u001b[1m5s\u001b[0m 5s/step\n",
      "\u001b[1m1/1\u001b[0m \u001b[32m━━━━━━━━━━━━━━━━━━━━\u001b[0m\u001b[37m\u001b[0m \u001b[1m4s\u001b[0m 4s/step\n",
      "\u001b[1m1/1\u001b[0m \u001b[32m━━━━━━━━━━━━━━━━━━━━\u001b[0m\u001b[37m\u001b[0m \u001b[1m4s\u001b[0m 4s/step\n",
      "\u001b[1m1/1\u001b[0m \u001b[32m━━━━━━━━━━━━━━━━━━━━\u001b[0m\u001b[37m\u001b[0m \u001b[1m4s\u001b[0m 4s/step\n",
      "\u001b[1m1/1\u001b[0m \u001b[32m━━━━━━━━━━━━━━━━━━━━\u001b[0m\u001b[37m\u001b[0m \u001b[1m4s\u001b[0m 4s/step\n",
      "\u001b[1m1/1\u001b[0m \u001b[32m━━━━━━━━━━━━━━━━━━━━\u001b[0m\u001b[37m\u001b[0m \u001b[1m4s\u001b[0m 4s/step\n",
      "\u001b[1m1/1\u001b[0m \u001b[32m━━━━━━━━━━━━━━━━━━━━\u001b[0m\u001b[37m\u001b[0m \u001b[1m5s\u001b[0m 5s/step\n",
      "\u001b[1m1/1\u001b[0m \u001b[32m━━━━━━━━━━━━━━━━━━━━\u001b[0m\u001b[37m\u001b[0m \u001b[1m4s\u001b[0m 4s/step\n",
      "\u001b[1m1/1\u001b[0m \u001b[32m━━━━━━━━━━━━━━━━━━━━\u001b[0m\u001b[37m\u001b[0m \u001b[1m4s\u001b[0m 4s/step\n",
      "\u001b[1m1/1\u001b[0m \u001b[32m━━━━━━━━━━━━━━━━━━━━\u001b[0m\u001b[37m\u001b[0m \u001b[1m4s\u001b[0m 4s/step\n",
      "\u001b[1m1/1\u001b[0m \u001b[32m━━━━━━━━━━━━━━━━━━━━\u001b[0m\u001b[37m\u001b[0m \u001b[1m5s\u001b[0m 5s/step\n",
      "\u001b[1m1/1\u001b[0m \u001b[32m━━━━━━━━━━━━━━━━━━━━\u001b[0m\u001b[37m\u001b[0m \u001b[1m4s\u001b[0m 4s/step\n",
      "\u001b[1m1/1\u001b[0m \u001b[32m━━━━━━━━━━━━━━━━━━━━\u001b[0m\u001b[37m\u001b[0m \u001b[1m4s\u001b[0m 4s/step\n",
      "\u001b[1m1/1\u001b[0m \u001b[32m━━━━━━━━━━━━━━━━━━━━\u001b[0m\u001b[37m\u001b[0m \u001b[1m4s\u001b[0m 4s/step\n"
     ]
    },
    {
     "data": {
      "image/png": "[encoded data removed]",
      "text/plain": [
       "<Figure size 800x600 with 1 Axes>"
      ]
     },
     "metadata": {},
     "output_type": "display_data"
    }
   ],
   "source": [
    "import tensorflow as tf\n",
    "import numpy as np\n",
    "import matplotlib.pyplot as plt\n",
    "from sklearn.metrics import roc_curve, auc\n",
    "\n",
    "# 1. Evaluar el modelo en el conjunto de prueba\n",
    "y_true = []  # Etiquetas verdaderas\n",
    "y_pred = []  # Probabilidades predichas\n",
    "\n",
    "for images, labels in test_ds:\n",
    "    y_true.extend(labels.numpy())  # Convertir tensores a numpy\n",
    "    # Get predictions for the positive class (assuming binary classification)\n",
    "    predictions = carga_modelo_trans.predict(images)\n",
    "    # If your model outputs a single probability for the positive class, use:\n",
    "    # y_pred.extend(predictions)\n",
    "    # If your model outputs probabilities for multiple classes, use:\n",
    "    y_pred.extend(predictions.flatten())  # Assuming the second column represents the positive class\n",
    "\n",
    "\n",
    "y_true = np.array(y_true)\n",
    "y_pred = np.array(y_pred)\n",
    "\n",
    "# 2. Calcular la curva ROC\n",
    "fpr, tpr, thresholds = roc_curve(y_true, y_pred)\n",
    "roc_auc = auc(fpr, tpr)\n",
    "\n",
    "# 3. Graficar la curva ROC\n",
    "plt.figure(figsize=(8, 6))\n",
    "plt.plot(fpr, tpr, color='darkorange', lw=2, label=f'ROC curve (AUC = {roc_auc:.2f})')\n",
    "plt.plot([0, 1], [0, 1], color='navy', lw=2, linestyle='--')  # Línea diagonal (azar)\n",
    "plt.xlabel('False Positive Rate')\n",
    "plt.ylabel('True Positive Rate')\n",
    "plt.title('Receiver Operating Characteristic (ROC)')\n",
    "plt.legend(loc=\"lower right\")\n",
    "plt.grid(alpha=0.4)\n",
    "plt.show()"
   ]
  }
 ],
 "metadata": {
  "colab": {
   "authorship_tag": "ABX9TyOYzMJp1QeEcueda53axw66",
   "mount_file_id": "1q45ONegXdJFyijDf-P5alfDJrxdnad-e",
   "name": "",
   "version": ""
  },
  "kernelspec": {
   "display_name": "Python 3",
   "name": "python3"
  },
  "language_info": {
   "name": "python"
  }
 },
 "nbformat": 4,
 "nbformat_minor": 0
}
